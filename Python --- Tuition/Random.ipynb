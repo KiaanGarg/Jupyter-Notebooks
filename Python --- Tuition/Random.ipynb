{
 "cells": [
  {
   "cell_type": "code",
   "execution_count": 2,
   "id": "2beb8e3b",
   "metadata": {},
   "outputs": [],
   "source": [
    "a = [1, 2, 3, 4]"
   ]
  },
  {
   "cell_type": "markdown",
   "id": "513128e1",
   "metadata": {},
   "source": [
    "# Using Range\n"
   ]
  },
  {
   "cell_type": "code",
   "execution_count": 4,
   "id": "0fadc6aa",
   "metadata": {},
   "outputs": [
    {
     "name": "stdout",
     "output_type": "stream",
     "text": [
      "1\n",
      "2\n",
      "3\n",
      "4\n"
     ]
    }
   ],
   "source": [
    "for i in range(len(a)):\n",
    "    print(a[i])"
   ]
  },
  {
   "cell_type": "markdown",
   "id": "e6217295",
   "metadata": {},
   "source": [
    "# Doing without Range\n"
   ]
  },
  {
   "cell_type": "code",
   "execution_count": 5,
   "id": "03dfc555",
   "metadata": {},
   "outputs": [
    {
     "name": "stdout",
     "output_type": "stream",
     "text": [
      "1\n",
      "2\n",
      "3\n",
      "4\n"
     ]
    }
   ],
   "source": [
    "for i in a:\n",
    "    print(i)"
   ]
  },
  {
   "cell_type": "markdown",
   "id": "073f2c95",
   "metadata": {},
   "source": [
    "# While Loop Excercise"
   ]
  },
  {
   "cell_type": "code",
   "execution_count": 1,
   "id": "2ead8f9a",
   "metadata": {
    "scrolled": true
   },
   "outputs": [
    {
     "name": "stdout",
     "output_type": "stream",
     "text": [
      "Please enter a Natural number of your choice: 6\n",
      "21\n"
     ]
    }
   ],
   "source": [
    "a = int(input(\"Please enter a Natural number of your choice: \"))\n",
    "\n",
    "b = 1\n",
    "\n",
    "sum = 0\n",
    "\n",
    "while b < a:\n",
    "    sum = sum + b\n",
    "    b += 1\n",
    "\n",
    "sum = sum + a\n",
    "print(sum)"
   ]
  },
  {
   "cell_type": "code",
   "execution_count": null,
   "id": "73125273",
   "metadata": {},
   "outputs": [],
   "source": []
  }
 ],
 "metadata": {
  "kernelspec": {
   "display_name": "Python 3 (ipykernel)",
   "language": "python",
   "name": "python3"
  },
  "language_info": {
   "codemirror_mode": {
    "name": "ipython",
    "version": 3
   },
   "file_extension": ".py",
   "mimetype": "text/x-python",
   "name": "python",
   "nbconvert_exporter": "python",
   "pygments_lexer": "ipython3",
   "version": "3.9.7"
  }
 },
 "nbformat": 4,
 "nbformat_minor": 5
}
