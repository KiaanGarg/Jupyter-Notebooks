{
 "cells": [
  {
   "cell_type": "code",
   "execution_count": 2,
   "id": "68f83acc",
   "metadata": {},
   "outputs": [],
   "source": [
    "import numpy as np"
   ]
  },
  {
   "cell_type": "markdown",
   "id": "34e5649d",
   "metadata": {},
   "source": [
    "# Arithmetic Section"
   ]
  },
  {
   "cell_type": "markdown",
   "id": "1ff74fd5",
   "metadata": {},
   "source": [
    "## Addition"
   ]
  },
  {
   "cell_type": "code",
   "execution_count": 3,
   "id": "727087dc",
   "metadata": {},
   "outputs": [],
   "source": [
    "a = np.array([[1, 2], [3, 4]])\n",
    "b = np.array([[5, 6], [7, 8]])"
   ]
  },
  {
   "cell_type": "code",
   "execution_count": 4,
   "id": "2eb18ff8",
   "metadata": {},
   "outputs": [
    {
     "name": "stdout",
     "output_type": "stream",
     "text": [
      "[[1 2]\n",
      " [3 4]]\n",
      "[[5 6]\n",
      " [7 8]]\n"
     ]
    }
   ],
   "source": [
    "print(a)\n",
    "print(b)"
   ]
  },
  {
   "cell_type": "code",
   "execution_count": 5,
   "id": "8bbb3ff8",
   "metadata": {},
   "outputs": [
    {
     "data": {
      "text/plain": [
       "array([[ 6,  8],\n",
       "       [10, 12]])"
      ]
     },
     "execution_count": 5,
     "metadata": {},
     "output_type": "execute_result"
    }
   ],
   "source": [
    "a + b"
   ]
  },
  {
   "cell_type": "markdown",
   "id": "54f0e76f",
   "metadata": {},
   "source": [
    "### Or"
   ]
  },
  {
   "cell_type": "code",
   "execution_count": 6,
   "id": "8d34e974",
   "metadata": {},
   "outputs": [
    {
     "name": "stdout",
     "output_type": "stream",
     "text": [
      "[[ 6  8]\n",
      " [10 12]]\n"
     ]
    }
   ],
   "source": [
    "print(np.add(a, b))"
   ]
  },
  {
   "cell_type": "markdown",
   "id": "53d11887",
   "metadata": {},
   "source": [
    "## Subtraction"
   ]
  },
  {
   "cell_type": "code",
   "execution_count": 7,
   "id": "0c1c2071",
   "metadata": {},
   "outputs": [
    {
     "name": "stdout",
     "output_type": "stream",
     "text": [
      "[[1 2]\n",
      " [3 4]]\n",
      "[[5 6]\n",
      " [7 8]]\n"
     ]
    }
   ],
   "source": [
    "print(a)\n",
    "print(b)"
   ]
  },
  {
   "cell_type": "code",
   "execution_count": 8,
   "id": "4017d52b",
   "metadata": {},
   "outputs": [
    {
     "name": "stdout",
     "output_type": "stream",
     "text": [
      "[[4 4]\n",
      " [4 4]]\n"
     ]
    }
   ],
   "source": [
    "print(np.subtract(b, a))"
   ]
  },
  {
   "cell_type": "markdown",
   "id": "c4e4f05e",
   "metadata": {},
   "source": [
    "## Multiplication"
   ]
  },
  {
   "cell_type": "code",
   "execution_count": 9,
   "id": "c77fe764",
   "metadata": {},
   "outputs": [
    {
     "name": "stdout",
     "output_type": "stream",
     "text": [
      "[[1 2]\n",
      " [3 4]]\n",
      "[[5 6]\n",
      " [7 8]]\n"
     ]
    }
   ],
   "source": [
    "print(a)\n",
    "print(b)"
   ]
  },
  {
   "cell_type": "code",
   "execution_count": 10,
   "id": "7e054796",
   "metadata": {},
   "outputs": [
    {
     "name": "stdout",
     "output_type": "stream",
     "text": [
      "[[ 5 12]\n",
      " [21 32]]\n"
     ]
    }
   ],
   "source": [
    "print(a * b)"
   ]
  },
  {
   "cell_type": "markdown",
   "id": "bc2fe9ee",
   "metadata": {},
   "source": [
    "### Or"
   ]
  },
  {
   "cell_type": "code",
   "execution_count": 11,
   "id": "06fec015",
   "metadata": {},
   "outputs": [
    {
     "name": "stdout",
     "output_type": "stream",
     "text": [
      "[[ 5 12]\n",
      " [21 32]]\n"
     ]
    }
   ],
   "source": [
    "print(np.multiply(a, b))"
   ]
  },
  {
   "cell_type": "markdown",
   "id": "38d06aa9",
   "metadata": {},
   "source": [
    "## Division"
   ]
  },
  {
   "cell_type": "code",
   "execution_count": 12,
   "id": "a327940b",
   "metadata": {},
   "outputs": [
    {
     "name": "stdout",
     "output_type": "stream",
     "text": [
      "[[1 2]\n",
      " [3 4]]\n",
      "[[5 6]\n",
      " [7 8]]\n"
     ]
    }
   ],
   "source": [
    "print(a)\n",
    "print(b)"
   ]
  },
  {
   "cell_type": "code",
   "execution_count": 13,
   "id": "95467c9b",
   "metadata": {},
   "outputs": [
    {
     "name": "stdout",
     "output_type": "stream",
     "text": [
      "[[0.2        0.33333333]\n",
      " [0.42857143 0.5       ]]\n"
     ]
    }
   ],
   "source": [
    "print(np.divide(a, b))"
   ]
  },
  {
   "cell_type": "markdown",
   "id": "1bd6cecb",
   "metadata": {},
   "source": [
    "### Or"
   ]
  },
  {
   "cell_type": "code",
   "execution_count": 14,
   "id": "1ad77d96",
   "metadata": {},
   "outputs": [
    {
     "name": "stdout",
     "output_type": "stream",
     "text": [
      "[[0.2        0.33333333]\n",
      " [0.42857143 0.5       ]]\n"
     ]
    }
   ],
   "source": [
    "print(a / b)"
   ]
  },
  {
   "cell_type": "markdown",
   "id": "fe310f03",
   "metadata": {},
   "source": [
    "## Square Root"
   ]
  },
  {
   "cell_type": "code",
   "execution_count": 15,
   "id": "55547273",
   "metadata": {},
   "outputs": [
    {
     "name": "stdout",
     "output_type": "stream",
     "text": [
      "[[1 2]\n",
      " [3 4]]\n",
      "[[5 6]\n",
      " [7 8]]\n"
     ]
    }
   ],
   "source": [
    "print(a)\n",
    "print(b)"
   ]
  },
  {
   "cell_type": "code",
   "execution_count": 16,
   "id": "08c4e17d",
   "metadata": {},
   "outputs": [
    {
     "name": "stdout",
     "output_type": "stream",
     "text": [
      "A:\n",
      "[[1.         1.41421356]\n",
      " [1.73205081 2.        ]]\n"
     ]
    }
   ],
   "source": [
    "print(\"A:\")\n",
    "print(np.sqrt(a))"
   ]
  },
  {
   "cell_type": "code",
   "execution_count": 17,
   "id": "5f3b8b36",
   "metadata": {},
   "outputs": [
    {
     "name": "stdout",
     "output_type": "stream",
     "text": [
      "B:\n",
      "[[2.23606798 2.44948974]\n",
      " [2.64575131 2.82842712]]\n"
     ]
    }
   ],
   "source": [
    "print(\"B:\")\n",
    "print(np.sqrt(b))"
   ]
  },
  {
   "cell_type": "markdown",
   "id": "11457221",
   "metadata": {},
   "source": [
    "## Sum of all elements inside an Array"
   ]
  },
  {
   "cell_type": "code",
   "execution_count": 18,
   "id": "61e31a19",
   "metadata": {},
   "outputs": [
    {
     "name": "stdout",
     "output_type": "stream",
     "text": [
      "[[5 6]\n",
      " [7 8]]\n"
     ]
    }
   ],
   "source": [
    "print(b)"
   ]
  },
  {
   "cell_type": "code",
   "execution_count": 19,
   "id": "78855b72",
   "metadata": {},
   "outputs": [
    {
     "name": "stdout",
     "output_type": "stream",
     "text": [
      "26\n"
     ]
    }
   ],
   "source": [
    "print(np.sum(b))"
   ]
  },
  {
   "cell_type": "markdown",
   "id": "43c9f8ab",
   "metadata": {},
   "source": [
    "# Arange"
   ]
  },
  {
   "cell_type": "code",
   "execution_count": 20,
   "id": "5f9a49cc",
   "metadata": {},
   "outputs": [
    {
     "name": "stdout",
     "output_type": "stream",
     "text": [
      "[0 1 2 3 4 5 6 7 8 9]\n"
     ]
    }
   ],
   "source": [
    "print(np.arange(10))"
   ]
  },
  {
   "cell_type": "code",
   "execution_count": 30,
   "id": "58564512",
   "metadata": {},
   "outputs": [
    {
     "name": "stdout",
     "output_type": "stream",
     "text": [
      "[ 1  2  3  4  5  6  7  8  9 10]\n"
     ]
    }
   ],
   "source": [
    "print(np.arange(10) + 1)"
   ]
  },
  {
   "cell_type": "markdown",
   "id": "9841c777",
   "metadata": {},
   "source": [
    "# Shuffling of Elements"
   ]
  },
  {
   "cell_type": "code",
   "execution_count": 22,
   "id": "d23157f5",
   "metadata": {},
   "outputs": [],
   "source": [
    "c = np.array([1, 2, 3, 4, 5, 6, 7, 8])"
   ]
  },
  {
   "cell_type": "code",
   "execution_count": 23,
   "id": "180520f4",
   "metadata": {},
   "outputs": [
    {
     "name": "stdout",
     "output_type": "stream",
     "text": [
      "[6 1 3 8 2 7 5 4]\n"
     ]
    }
   ],
   "source": [
    "np.random.shuffle(c)\n",
    "print(c)"
   ]
  },
  {
   "cell_type": "markdown",
   "id": "438ed5c4",
   "metadata": {},
   "source": [
    "# Statistical Operations"
   ]
  },
  {
   "cell_type": "markdown",
   "id": "540b5e15",
   "metadata": {},
   "source": [
    "## Finding the Mean"
   ]
  },
  {
   "cell_type": "code",
   "execution_count": 24,
   "id": "32cc76f1",
   "metadata": {},
   "outputs": [
    {
     "name": "stdout",
     "output_type": "stream",
     "text": [
      "4.5\n"
     ]
    }
   ],
   "source": [
    "print(np.mean(c))"
   ]
  },
  {
   "cell_type": "markdown",
   "id": "ca1556ed",
   "metadata": {},
   "source": [
    "## Finding the Median"
   ]
  },
  {
   "cell_type": "code",
   "execution_count": 25,
   "id": "a9481dc3",
   "metadata": {},
   "outputs": [
    {
     "name": "stdout",
     "output_type": "stream",
     "text": [
      "4.5\n"
     ]
    }
   ],
   "source": [
    "print(np.median(c))"
   ]
  },
  {
   "cell_type": "markdown",
   "id": "541862f1",
   "metadata": {},
   "source": [
    "## Finding the variance"
   ]
  },
  {
   "cell_type": "code",
   "execution_count": 26,
   "id": "950c6716",
   "metadata": {},
   "outputs": [
    {
     "name": "stdout",
     "output_type": "stream",
     "text": [
      "5.25\n"
     ]
    }
   ],
   "source": [
    "print(np.var(c))"
   ]
  },
  {
   "cell_type": "code",
   "execution_count": 27,
   "id": "7bb3e2fa",
   "metadata": {},
   "outputs": [
    {
     "data": {
      "text/plain": [
       "5.25"
      ]
     },
     "execution_count": 27,
     "metadata": {},
     "output_type": "execute_result"
    }
   ],
   "source": [
    "((2.5 ** 2) + (1.5 ** 2) + (3.5 ** 2) + (3.5 ** 2) + (0.5 ** 2) + (1.5 ** 2) + (2.5 ** 2) + (0.5 ** 2)) / 8"
   ]
  },
  {
   "cell_type": "markdown",
   "id": "b540f81d",
   "metadata": {},
   "source": [
    "## Finding the Standard Deviation"
   ]
  },
  {
   "cell_type": "code",
   "execution_count": 28,
   "id": "a106d4ce",
   "metadata": {},
   "outputs": [
    {
     "name": "stdout",
     "output_type": "stream",
     "text": [
      "2.29\n"
     ]
    }
   ],
   "source": [
    "print(round(np.std(c), 2))"
   ]
  },
  {
   "cell_type": "code",
   "execution_count": 29,
   "id": "6e3825a8",
   "metadata": {},
   "outputs": [
    {
     "data": {
      "text/plain": [
       "2.29128784747792"
      ]
     },
     "execution_count": 29,
     "metadata": {},
     "output_type": "execute_result"
    }
   ],
   "source": [
    "np.sqrt(5.25)"
   ]
  }
 ],
 "metadata": {
  "kernelspec": {
   "display_name": "Python 3 (ipykernel)",
   "language": "python",
   "name": "python3"
  },
  "language_info": {
   "codemirror_mode": {
    "name": "ipython",
    "version": 3
   },
   "file_extension": ".py",
   "mimetype": "text/x-python",
   "name": "python",
   "nbconvert_exporter": "python",
   "pygments_lexer": "ipython3",
   "version": "3.9.7"
  }
 },
 "nbformat": 4,
 "nbformat_minor": 5
}
