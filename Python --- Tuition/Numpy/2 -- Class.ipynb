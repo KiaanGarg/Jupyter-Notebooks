{
 "cells": [
  {
   "cell_type": "code",
   "execution_count": 1,
   "id": "8cf4d3e9",
   "metadata": {},
   "outputs": [],
   "source": [
    "import numpy as np"
   ]
  },
  {
   "cell_type": "markdown",
   "id": "1df7a415",
   "metadata": {},
   "source": [
    "# Random Module"
   ]
  },
  {
   "cell_type": "code",
   "execution_count": 2,
   "id": "4f6e6f53",
   "metadata": {},
   "outputs": [
    {
     "data": {
      "text/plain": [
       "array([90, 98, 89, 79, 65, 61, 82, 99, 93, 69])"
      ]
     },
     "execution_count": 2,
     "metadata": {},
     "output_type": "execute_result"
    }
   ],
   "source": [
    "a = np.random.randint(60, 100, 10)\n",
    "a"
   ]
  },
  {
   "cell_type": "markdown",
   "id": "8ad29c5b",
   "metadata": {},
   "source": [
    "# Random Module with shape"
   ]
  },
  {
   "cell_type": "code",
   "execution_count": 3,
   "id": "1b69a08b",
   "metadata": {},
   "outputs": [],
   "source": [
    "a = np.random.randint(60, 100, (5, 5))"
   ]
  },
  {
   "cell_type": "code",
   "execution_count": 4,
   "id": "6d274d27",
   "metadata": {},
   "outputs": [
    {
     "data": {
      "text/plain": [
       "array([[82, 81, 60, 69, 76],\n",
       "       [74, 81, 66, 84, 62],\n",
       "       [92, 96, 78, 63, 86],\n",
       "       [87, 68, 70, 83, 66],\n",
       "       [66, 93, 82, 85, 85]])"
      ]
     },
     "execution_count": 4,
     "metadata": {},
     "output_type": "execute_result"
    }
   ],
   "source": [
    "a"
   ]
  },
  {
   "cell_type": "markdown",
   "id": "0d0073f4",
   "metadata": {},
   "source": [
    "# Doing operations on the Random Value Array(a)"
   ]
  },
  {
   "cell_type": "code",
   "execution_count": 5,
   "id": "d9a5f118",
   "metadata": {
    "scrolled": true
   },
   "outputs": [
    {
     "name": "stdout",
     "output_type": "stream",
     "text": [
      "Maximum: \n",
      "96\n",
      "Minimum: \n",
      "60\n"
     ]
    }
   ],
   "source": [
    "print(\"Maximum: \")\n",
    "print(np.max(a)) # Finding maximum value in the array\n",
    "print(\"Minimum: \")\n",
    "print(np.min(a)) # Finding minimum value in the array"
   ]
  },
  {
   "cell_type": "code",
   "execution_count": 6,
   "id": "85ca53b7",
   "metadata": {},
   "outputs": [
    {
     "name": "stdout",
     "output_type": "stream",
     "text": [
      "Index of Maximum Number: \n",
      "11\n",
      "Index of Minimum Number: \n",
      "2\n"
     ]
    }
   ],
   "source": [
    "print(\"Index of Maximum Number: \")\n",
    "print(np.argmax(a)) # Finding index of maximum value in the array\n",
    "print(\"Index of Minimum Number: \")\n",
    "print(np.argmin(a)) # Finding index of maximum value in the array"
   ]
  },
  {
   "cell_type": "code",
   "execution_count": 7,
   "id": "33078f57",
   "metadata": {},
   "outputs": [
    {
     "name": "stdout",
     "output_type": "stream",
     "text": [
      "Finding the unique elements in an array: \n",
      "(array([60, 62, 63, 66, 68, 69, 70, 74, 76, 78, 81, 82, 83, 84, 85, 86, 87,\n",
      "       92, 93, 96]), array([1, 1, 1, 3, 1, 1, 1, 1, 1, 1, 2, 2, 1, 1, 2, 1, 1, 1, 1, 1],\n",
      "      dtype=int64))\n"
     ]
    }
   ],
   "source": [
    "print(\"Finding the unique elements in an array: \")\n",
    "print(np.unique(a, return_counts = True))"
   ]
  },
  {
   "cell_type": "markdown",
   "id": "85891210",
   "metadata": {},
   "source": [
    "# Slicing Excercise"
   ]
  },
  {
   "cell_type": "code",
   "execution_count": 8,
   "id": "aef630b6",
   "metadata": {},
   "outputs": [
    {
     "name": "stdout",
     "output_type": "stream",
     "text": [
      "60\n"
     ]
    }
   ],
   "source": [
    "print(a[0, 2])"
   ]
  },
  {
   "cell_type": "code",
   "execution_count": 9,
   "id": "b99ec7dd",
   "metadata": {},
   "outputs": [
    {
     "name": "stdout",
     "output_type": "stream",
     "text": [
      "[69 84 63 83 85]\n"
     ]
    }
   ],
   "source": [
    "print(a[:, 3])"
   ]
  },
  {
   "cell_type": "code",
   "execution_count": 10,
   "id": "31242d91",
   "metadata": {},
   "outputs": [
    {
     "name": "stdout",
     "output_type": "stream",
     "text": [
      "[76 62]\n"
     ]
    }
   ],
   "source": [
    "print(a[:2, -1])"
   ]
  },
  {
   "cell_type": "markdown",
   "id": "800c5bee",
   "metadata": {},
   "source": [
    "# Identity Matrix"
   ]
  },
  {
   "cell_type": "code",
   "execution_count": 16,
   "id": "607e7a95",
   "metadata": {},
   "outputs": [
    {
     "name": "stdout",
     "output_type": "stream",
     "text": [
      "[[1 0 0 0 0]\n",
      " [0 1 0 0 0]\n",
      " [0 0 1 0 0]\n",
      " [0 0 0 1 0]\n",
      " [0 0 0 0 1]]\n"
     ]
    }
   ],
   "source": [
    "print(np.eye(5, dtype = \"int8\"))"
   ]
  },
  {
   "cell_type": "markdown",
   "id": "b69767d5",
   "metadata": {},
   "source": [
    "# Finding Evenly Spaced Numbers"
   ]
  },
  {
   "cell_type": "code",
   "execution_count": 12,
   "id": "914d39b9",
   "metadata": {},
   "outputs": [
    {
     "name": "stdout",
     "output_type": "stream",
     "text": [
      "[ 1.    3.25  5.5   7.75 10.  ]\n"
     ]
    }
   ],
   "source": [
    "print(np.linspace(1, 10, 5))"
   ]
  },
  {
   "cell_type": "code",
   "execution_count": null,
   "id": "13434252",
   "metadata": {},
   "outputs": [],
   "source": []
  }
 ],
 "metadata": {
  "kernelspec": {
   "display_name": "Python 3 (ipykernel)",
   "language": "python",
   "name": "python3"
  },
  "language_info": {
   "codemirror_mode": {
    "name": "ipython",
    "version": 3
   },
   "file_extension": ".py",
   "mimetype": "text/x-python",
   "name": "python",
   "nbconvert_exporter": "python",
   "pygments_lexer": "ipython3",
   "version": "3.9.7"
  }
 },
 "nbformat": 4,
 "nbformat_minor": 5
}
