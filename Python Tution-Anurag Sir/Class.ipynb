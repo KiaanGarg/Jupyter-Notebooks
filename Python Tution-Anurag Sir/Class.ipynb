{
 "cells": [
  {
   "cell_type": "markdown",
   "id": "99f005b6",
   "metadata": {},
   "source": [
    "# Creating a class - Chair"
   ]
  },
  {
   "cell_type": "code",
   "execution_count": 1,
   "id": "16be8d39",
   "metadata": {},
   "outputs": [
    {
     "name": "stdout",
     "output_type": "stream",
     "text": [
      "wood\n",
      "wood is the material of the chair\n"
     ]
    }
   ],
   "source": [
    "#     4 legs\n",
    "#     Leanable\n",
    "#     Small\n",
    "#     Usually Made of Wood\n",
    "\n",
    "# syntax\n",
    "class chair:\n",
    "    # this is will be call automatically whenever you will make and object of that class\n",
    "    # this is called object initialiser -> this attaches any attribute which is not predefined\n",
    "    # and at last it return the modified object of the class\n",
    "    # this means you cannot write a return statememnt in __init__()\n",
    "    def __init__(self, material):\n",
    "        self.material = material\n",
    "\n",
    "c = chair(\"wood\")\n",
    "print(c.material)\n",
    "print(c.material, \"is the material of the chair\")\n",
    "# after making the object of the class chair __init__() is called with the object as argument to \n",
    "# __init__()"
   ]
  },
  {
   "cell_type": "markdown",
   "id": "0b443894",
   "metadata": {},
   "source": [
    "# ds\n",
    "\n"
   ]
  },
  {
   "cell_type": "code",
   "execution_count": 2,
   "id": "5ed3a158",
   "metadata": {},
   "outputs": [
    {
     "name": "stdout",
     "output_type": "stream",
     "text": [
      "70\n"
     ]
    }
   ],
   "source": [
    "class geometry:\n",
    "    def __init__(self, shape, height, width, base):\n",
    "        if(shape == \"rectangle\"):\n",
    "            self.area = height * width\n",
    "        elif(shape == \"square\"):\n",
    "            self.area = height * height\n",
    "        elif(shape == \"circle\"):\n",
    "            self.area = 3.14 * (height * width)\n",
    "        elif(shape == \"triangle\"):\n",
    "            self.area = (0.5 * base) * height\n",
    "            \n",
    "area = geometry(\"rectangle\", 5, 14, None)\n",
    "print(area.area)"
   ]
  },
  {
   "cell_type": "code",
   "execution_count": 3,
   "id": "9a38d9c6",
   "metadata": {},
   "outputs": [],
   "source": [
    "# write a loop that can take user input for 10 time and save the result of the calculation\n",
    "# in a list \n",
    "# and then you should write another loop for checking which the type fo the area"
   ]
  },
  {
   "cell_type": "code",
   "execution_count": 4,
   "id": "78616213",
   "metadata": {},
   "outputs": [],
   "source": [
    "def area(shape, height, width, base):\n",
    "    if(shape == \"rectangle\"):\n",
    "        area1 = height * width\n",
    "    elif(shape == \"square\"):\n",
    "        area1 = height * height\n",
    "    elif(shape == \"circle\"):\n",
    "        area1 = 3.14 * (height * height)\n",
    "    elif(shape == \"triangle\"):\n",
    "        area1 = (0.5 * base) * height\n",
    "    return area1"
   ]
  },
  {
   "cell_type": "code",
   "execution_count": null,
   "id": "ef7a1c20",
   "metadata": {},
   "outputs": [],
   "source": []
  },
  {
   "cell_type": "code",
   "execution_count": 5,
   "id": "113f5197",
   "metadata": {},
   "outputs": [
    {
     "name": "stdout",
     "output_type": "stream",
     "text": [
      "Enter Shape: \n"
     ]
    },
    {
     "ename": "NameError",
     "evalue": "name 'height' is not defined",
     "output_type": "error",
     "traceback": [
      "\u001b[1;31m---------------------------------------------------------------------------\u001b[0m",
      "\u001b[1;31mNameError\u001b[0m                                 Traceback (most recent call last)",
      "\u001b[1;32m~\\AppData\\Local\\Temp/ipykernel_11280/3841188851.py\u001b[0m in \u001b[0;36m<module>\u001b[1;34m\u001b[0m\n\u001b[0;32m     19\u001b[0m         \u001b[0mwidth\u001b[0m \u001b[1;33m=\u001b[0m \u001b[0mint\u001b[0m\u001b[1;33m(\u001b[0m\u001b[0minput\u001b[0m\u001b[1;33m(\u001b[0m\u001b[1;34m\"Enter Width: \"\u001b[0m\u001b[1;33m)\u001b[0m\u001b[1;33m)\u001b[0m\u001b[1;33m\u001b[0m\u001b[1;33m\u001b[0m\u001b[0m\n\u001b[0;32m     20\u001b[0m \u001b[1;33m\u001b[0m\u001b[0m\n\u001b[1;32m---> 21\u001b[1;33m     \u001b[0marea1\u001b[0m \u001b[1;33m=\u001b[0m \u001b[0marea\u001b[0m\u001b[1;33m(\u001b[0m\u001b[0mshape\u001b[0m\u001b[1;33m,\u001b[0m \u001b[0mheight\u001b[0m\u001b[1;33m,\u001b[0m \u001b[0mwidth\u001b[0m\u001b[1;33m,\u001b[0m \u001b[0mbase\u001b[0m\u001b[1;33m)\u001b[0m\u001b[1;33m\u001b[0m\u001b[1;33m\u001b[0m\u001b[0m\n\u001b[0m\u001b[0;32m     22\u001b[0m     \u001b[0mprint\u001b[0m\u001b[1;33m(\u001b[0m\u001b[0marea1\u001b[0m\u001b[1;33m,\u001b[0m \u001b[1;34m\"Shape is: \"\u001b[0m\u001b[1;33m,\u001b[0m \u001b[0mshape\u001b[0m\u001b[1;33m)\u001b[0m\u001b[1;33m\u001b[0m\u001b[1;33m\u001b[0m\u001b[0m\n\u001b[0;32m     23\u001b[0m     \u001b[0mlist1\u001b[0m\u001b[1;33m.\u001b[0m\u001b[0mappend\u001b[0m\u001b[1;33m(\u001b[0m\u001b[0marea1\u001b[0m\u001b[1;33m)\u001b[0m\u001b[1;33m\u001b[0m\u001b[1;33m\u001b[0m\u001b[0m\n",
      "\u001b[1;31mNameError\u001b[0m: name 'height' is not defined"
     ]
    }
   ],
   "source": [
    "list1 = []\n",
    "for x in range(0, 10):\n",
    "    shape = input(\"Enter Shape: \").lower()\n",
    "    if(shape == \"circle\"):\n",
    "        width = 0\n",
    "        base = 0\n",
    "        height = int(input(\"Enter Radius: \"))\n",
    "    elif(shape == \"triangle\"):\n",
    "        width = 0\n",
    "        base = int(input(\"Enter Base\"))\n",
    "        height = int(input(\"Enter Height: \"))\n",
    "    elif(shape == \"square\"):\n",
    "        base = 0\n",
    "        width = 0\n",
    "        height = int(input(\"Enter Side: \"))\n",
    "    elif(shape == \"rectangle\"):\n",
    "        base = 0\n",
    "        height = int(input(\"Enter Height: \"))\n",
    "        width = int(input(\"Enter Width: \"))\n",
    "        \n",
    "    area1 = area(shape, height, width, base)\n",
    "    print(area1, \"Shape is: \", shape)\n",
    "    list1.append(area1)\n",
    "    list1.append(shape)"
   ]
  },
  {
   "cell_type": "code",
   "execution_count": 6,
   "id": "4c012e70",
   "metadata": {},
   "outputs": [
    {
     "ename": "IndexError",
     "evalue": "list index out of range",
     "output_type": "error",
     "traceback": [
      "\u001b[1;31m---------------------------------------------------------------------------\u001b[0m",
      "\u001b[1;31mIndexError\u001b[0m                                Traceback (most recent call last)",
      "\u001b[1;32m~\\AppData\\Local\\Temp/ipykernel_11280/1328062242.py\u001b[0m in \u001b[0;36m<module>\u001b[1;34m\u001b[0m\n\u001b[0;32m      1\u001b[0m \u001b[1;32mfor\u001b[0m \u001b[0mx\u001b[0m \u001b[1;32min\u001b[0m \u001b[0mrange\u001b[0m\u001b[1;33m(\u001b[0m\u001b[1;36m0\u001b[0m\u001b[1;33m,\u001b[0m \u001b[1;36m20\u001b[0m\u001b[1;33m,\u001b[0m \u001b[1;36m2\u001b[0m\u001b[1;33m)\u001b[0m\u001b[1;33m:\u001b[0m\u001b[1;33m\u001b[0m\u001b[1;33m\u001b[0m\u001b[0m\n\u001b[1;32m----> 2\u001b[1;33m     \u001b[0mprint\u001b[0m\u001b[1;33m(\u001b[0m\u001b[0mlist1\u001b[0m\u001b[1;33m[\u001b[0m\u001b[0mx\u001b[0m\u001b[1;33m]\u001b[0m\u001b[1;33m,\u001b[0m \u001b[1;34m\" Shape: \"\u001b[0m\u001b[1;33m,\u001b[0m \u001b[0mlist1\u001b[0m\u001b[1;33m[\u001b[0m\u001b[0mx\u001b[0m \u001b[1;33m+\u001b[0m \u001b[1;36m1\u001b[0m\u001b[1;33m]\u001b[0m\u001b[1;33m,\u001b[0m \u001b[1;34m\"\\n\"\u001b[0m\u001b[1;33m)\u001b[0m\u001b[1;33m\u001b[0m\u001b[1;33m\u001b[0m\u001b[0m\n\u001b[0m",
      "\u001b[1;31mIndexError\u001b[0m: list index out of range"
     ]
    }
   ],
   "source": [
    "for x in range(0, 20, 2):\n",
    "    print(list1[x], \" Shape: \", list1[x + 1], \"\\n\")"
   ]
  },
  {
   "cell_type": "code",
   "execution_count": 7,
   "id": "ec32188b",
   "metadata": {},
   "outputs": [
    {
     "name": "stdout",
     "output_type": "stream",
     "text": [
      "Enter the Radius: \n"
     ]
    },
    {
     "ename": "ValueError",
     "evalue": "could not convert string to float: ''",
     "output_type": "error",
     "traceback": [
      "\u001b[1;31m---------------------------------------------------------------------------\u001b[0m",
      "\u001b[1;31mValueError\u001b[0m                                Traceback (most recent call last)",
      "\u001b[1;32m~\\AppData\\Local\\Temp/ipykernel_11280/3636752139.py\u001b[0m in \u001b[0;36m<module>\u001b[1;34m\u001b[0m\n\u001b[0;32m     35\u001b[0m         \u001b[1;32mreturn\u001b[0m \u001b[0mstr\u001b[0m\u001b[1;33m(\u001b[0m\u001b[0mself\u001b[0m\u001b[1;33m)\u001b[0m\u001b[1;33m\u001b[0m\u001b[1;33m\u001b[0m\u001b[0m\n\u001b[0;32m     36\u001b[0m \u001b[1;33m\u001b[0m\u001b[0m\n\u001b[1;32m---> 37\u001b[1;33m \u001b[0msh1\u001b[0m \u001b[1;33m=\u001b[0m \u001b[0mshape\u001b[0m\u001b[1;33m(\u001b[0m\u001b[1;34m\"circle\"\u001b[0m\u001b[1;33m)\u001b[0m\u001b[1;33m\u001b[0m\u001b[1;33m\u001b[0m\u001b[0m\n\u001b[0m\u001b[0;32m     38\u001b[0m \u001b[0msh1\u001b[0m\u001b[1;33m\u001b[0m\u001b[1;33m\u001b[0m\u001b[0m\n",
      "\u001b[1;32m~\\AppData\\Local\\Temp/ipykernel_11280/3636752139.py\u001b[0m in \u001b[0;36m__init__\u001b[1;34m(self, shape)\u001b[0m\n\u001b[0;32m     17\u001b[0m             \u001b[0mself\u001b[0m\u001b[1;33m.\u001b[0m\u001b[0md2\u001b[0m \u001b[1;33m=\u001b[0m \u001b[0mfloat\u001b[0m\u001b[1;33m(\u001b[0m\u001b[0minput\u001b[0m\u001b[1;33m(\u001b[0m\u001b[1;34m\"Enter the Height: \"\u001b[0m\u001b[1;33m)\u001b[0m\u001b[1;33m)\u001b[0m\u001b[1;33m\u001b[0m\u001b[1;33m\u001b[0m\u001b[0m\n\u001b[0;32m     18\u001b[0m         \u001b[1;32melif\u001b[0m \u001b[0mself\u001b[0m\u001b[1;33m.\u001b[0m\u001b[0mtype_\u001b[0m \u001b[1;33m==\u001b[0m \u001b[1;34m\"circle\"\u001b[0m\u001b[1;33m:\u001b[0m\u001b[1;33m\u001b[0m\u001b[1;33m\u001b[0m\u001b[0m\n\u001b[1;32m---> 19\u001b[1;33m             \u001b[0mself\u001b[0m\u001b[1;33m.\u001b[0m\u001b[0md1\u001b[0m \u001b[1;33m=\u001b[0m \u001b[0mfloat\u001b[0m\u001b[1;33m(\u001b[0m\u001b[0minput\u001b[0m\u001b[1;33m(\u001b[0m\u001b[1;34m\"Enter the Radius: \"\u001b[0m\u001b[1;33m)\u001b[0m\u001b[1;33m)\u001b[0m\u001b[1;33m\u001b[0m\u001b[1;33m\u001b[0m\u001b[0m\n\u001b[0m\u001b[0;32m     20\u001b[0m \u001b[1;33m\u001b[0m\u001b[0m\n\u001b[0;32m     21\u001b[0m     \u001b[1;32mdef\u001b[0m \u001b[0mget_area\u001b[0m\u001b[1;33m(\u001b[0m\u001b[0mself\u001b[0m\u001b[1;33m)\u001b[0m\u001b[1;33m:\u001b[0m\u001b[1;33m\u001b[0m\u001b[1;33m\u001b[0m\u001b[0m\n",
      "\u001b[1;31mValueError\u001b[0m: could not convert string to float: ''"
     ]
    }
   ],
   "source": [
    "class shape:\n",
    "    # shapes accepted are -> \n",
    "    # 1. rectangle -> l x b\n",
    "    # 2. square -> side\n",
    "    # 3. triangle -> (0.5 * base) x height\n",
    "    # 4. Circle -> pi * r **2\n",
    "    \n",
    "    def __init__(self, shape):\n",
    "        self.type_ = shape.lower().strip()\n",
    "        if self.type_ == \"rectangle\":\n",
    "            self.d1 = float(input(\"Enter the length: \"))\n",
    "            self.d2 = float(input(\"Enter the width: \"))\n",
    "        elif self.type_ == \"square\":\n",
    "            self.d1 = float(input(\"Enter the Side: \"))\n",
    "        elif self.type_ == \"triangle\":\n",
    "            self.d1 = float(input(\"Enter the Base: \"))\n",
    "            self.d2 = float(input(\"Enter the Height: \"))\n",
    "        elif self.type_ == \"circle\":\n",
    "            self.d1 = float(input(\"Enter the Radius: \"))\n",
    "            \n",
    "    def get_area(self):\n",
    "        if(self.type_ == \"rectangle\"):\n",
    "            area = self.d1 * self.d2\n",
    "        elif(self.type_ == \"square\"):\n",
    "            area = self.d1 ** 2\n",
    "        elif(self.type_ == \"circle\"):\n",
    "            area = 3.14 * (self.d1 ** 2)\n",
    "        elif(self.type_ == \"triangle\"):\n",
    "            area = (0.5 * self.d1) * self.d2\n",
    "        return area\n",
    "    \n",
    "    def __str__(self):\n",
    "        return \"shape(\"+self.type_ + \" area=\"+str(self.get_area())+\")\"\n",
    "    def __repr__(self):\n",
    "        return str(self)\n",
    "            \n",
    "sh1 = shape(\"circle\")\n",
    "sh1"
   ]
  },
  {
   "cell_type": "code",
   "execution_count": 8,
   "id": "c20a7178",
   "metadata": {},
   "outputs": [
    {
     "name": "stdout",
     "output_type": "stream",
     "text": [
      "Enter the no.of shaped you want to enter: 2\n",
      "Enter the shape: square\n",
      "Enter the Side: 3\n",
      "Enter the shape: triangle\n",
      "Enter the Base: 23\n",
      "Enter the Height: 23\n"
     ]
    },
    {
     "data": {
      "text/plain": [
       "[shape(square area=9.0), shape(triangle area=264.5)]"
      ]
     },
     "execution_count": 8,
     "metadata": {},
     "output_type": "execute_result"
    }
   ],
   "source": [
    "n = int(input(\"Enter the no.of shaped you want to enter: \"))\n",
    "lst = []\n",
    "for _ in range(n):\n",
    "    sh = shape(input(\"Enter the shape: \"))\n",
    "    lst.append(sh)\n",
    "# for sh in lst:\n",
    "#     print(sh.get_area())\n",
    "lst"
   ]
  },
  {
   "cell_type": "code",
   "execution_count": null,
   "id": "80e42d0a",
   "metadata": {},
   "outputs": [],
   "source": []
  },
  {
   "cell_type": "code",
   "execution_count": null,
   "id": "8895d7e8",
   "metadata": {},
   "outputs": [],
   "source": [
    "# Homework: Employee Class: Name, Department, Salary, %PF write a method in the class that will show \n",
    "#th salary when a percentage of it is deducted\n"
   ]
  }
 ],
 "metadata": {
  "kernelspec": {
   "display_name": "Python 3 (ipykernel)",
   "language": "python",
   "name": "python3"
  },
  "language_info": {
   "codemirror_mode": {
    "name": "ipython",
    "version": 3
   },
   "file_extension": ".py",
   "mimetype": "text/x-python",
   "name": "python",
   "nbconvert_exporter": "python",
   "pygments_lexer": "ipython3",
   "version": "3.9.7"
  }
 },
 "nbformat": 4,
 "nbformat_minor": 5
}
