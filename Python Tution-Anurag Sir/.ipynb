{
 "cells": [
  {
   "cell_type": "code",
   "execution_count": 20,
   "id": "598b512e",
   "metadata": {},
   "outputs": [],
   "source": [
    "class student:\n",
    "    def __init__(self, stu, sec, div, school):\n",
    "        self.student_ = stu\n",
    "        self.section = sec\n",
    "        self.division = div\n",
    "        self.school_ = school\n",
    "    def __str__(self):\n",
    "        return \"Name: \" + self.student_ + \", School: \" + self.school_+ \", Section: \" + str(self.section) + \", Division: \" + self.division\n",
    "    def __repr__(self):\n",
    "        return str(self)\n",
    "    def __eq__(self, other):\n",
    "        if isinstance(other, student):\n",
    "            return self.section == other.section and self.division == other.division and self.school_ == other.school_\n",
    "        raise Exception(f\"{other} is not of class 'student', it is of type '{other.__class__.__name__}'\")\n",
    "            "
   ]
  },
  {
   "cell_type": "code",
   "execution_count": 22,
   "id": "43dec8e5",
   "metadata": {},
   "outputs": [
    {
     "name": "stdout",
     "output_type": "stream",
     "text": [
      "Name: KIAAN GARG\n",
      "Section: 7\n",
      "Division: G\n",
      "School: JAMNABAI NARSEE SCHOOL\n"
     ]
    }
   ],
   "source": [
    "stu1 = student(input(\"Name: \"), input(\"Section: \"), input(\"Division: \"), input(\"School: \"))"
   ]
  },
  {
   "cell_type": "code",
   "execution_count": 23,
   "id": "653163be",
   "metadata": {},
   "outputs": [
    {
     "data": {
      "text/plain": [
       "Name: KIAAN GARG, School: JAMNABAI NARSEE SCHOOL, Section: 7, Division: G"
      ]
     },
     "execution_count": 23,
     "metadata": {},
     "output_type": "execute_result"
    }
   ],
   "source": [
    "stu1"
   ]
  },
  {
   "cell_type": "code",
   "execution_count": 27,
   "id": "f08e311e",
   "metadata": {},
   "outputs": [
    {
     "name": "stdout",
     "output_type": "stream",
     "text": [
      "Name: YUG PANDEY\n",
      "Section: 7\n",
      "Division: G\n",
      "School: JAMNABAI INTERNATIONAL SCHOOL\n"
     ]
    }
   ],
   "source": [
    "stu2 = student(input(\"Name: \"), input(\"Section: \"), input(\"Division: \"), input(\"School: \"))"
   ]
  },
  {
   "cell_type": "code",
   "execution_count": 28,
   "id": "4356a822",
   "metadata": {},
   "outputs": [
    {
     "data": {
      "text/plain": [
       "Name: YUG PANDEY, School: JAMNABAI INTERNATIONAL SCHOOL, Section: 7, Division: G"
      ]
     },
     "execution_count": 28,
     "metadata": {},
     "output_type": "execute_result"
    }
   ],
   "source": [
    "stu2"
   ]
  },
  {
   "cell_type": "code",
   "execution_count": 29,
   "id": "e1897a41",
   "metadata": {},
   "outputs": [
    {
     "data": {
      "text/plain": [
       "False"
      ]
     },
     "execution_count": 29,
     "metadata": {},
     "output_type": "execute_result"
    }
   ],
   "source": [
    "stu1 == stu2"
   ]
  },
  {
   "cell_type": "code",
   "execution_count": null,
   "id": "750b94d4",
   "metadata": {},
   "outputs": [],
   "source": []
  }
 ],
 "metadata": {
  "kernelspec": {
   "display_name": "Python 3 (ipykernel)",
   "language": "python",
   "name": "python3"
  },
  "language_info": {
   "codemirror_mode": {
    "name": "ipython",
    "version": 3
   },
   "file_extension": ".py",
   "mimetype": "text/x-python",
   "name": "python",
   "nbconvert_exporter": "python",
   "pygments_lexer": "ipython3",
   "version": "3.9.7"
  }
 },
 "nbformat": 4,
 "nbformat_minor": 5
}
