{
 "cells": [
  {
   "cell_type": "code",
   "execution_count": 4,
   "id": "635a5e19",
   "metadata": {},
   "outputs": [],
   "source": [
    "class vehicle:\n",
    "    def __init__(self, name, speed, mileage):\n",
    "        self.name_ = name\n",
    "        self.speed_ = speed\n",
    "        self.mileage_ = mileage\n",
    "\n",
    "class bus:\n",
    "    def __init__(self, vehicle):\n",
    "        self.name_ = vehicle.name_\n",
    "        self.speed_ = vehicle.speed_\n",
    "        self.mileage_ = vehicle.mileage_\n",
    "        \n",
    "    def __str__(self):\n",
    "        return \"Vehicle Name: \" + self.name_ + \", Speed: \" + str(self.speed_) + \", Mileage: \" + str(self.mileage_)\n",
    "    def __repr__(self):\n",
    "        return str(self)"
   ]
  },
  {
   "cell_type": "code",
   "execution_count": 5,
   "id": "555b6cc9",
   "metadata": {},
   "outputs": [
    {
     "name": "stdout",
     "output_type": "stream",
     "text": [
      "Name: School Volvo\n",
      "Speed: 180\n",
      "Mileage: 12\n"
     ]
    },
    {
     "data": {
      "text/plain": [
       "<__main__.vehicle at 0x26bd4ee8df0>"
      ]
     },
     "execution_count": 5,
     "metadata": {},
     "output_type": "execute_result"
    }
   ],
   "source": [
    "car = vehicle(input(\"Name: \"), input(\"Speed: \"), input(\"Mileage: \"))\n",
    "car"
   ]
  },
  {
   "cell_type": "code",
   "execution_count": 9,
   "id": "010e16fd",
   "metadata": {},
   "outputs": [
    {
     "data": {
      "text/plain": [
       "Vehicle Name: School Volvo, Speed: 180, Mileage: 12"
      ]
     },
     "execution_count": 9,
     "metadata": {},
     "output_type": "execute_result"
    }
   ],
   "source": [
    "car_bus = bus(car)\n",
    "car_bus"
   ]
  },
  {
   "cell_type": "code",
   "execution_count": 10,
   "id": "4f9b1ee9",
   "metadata": {},
   "outputs": [],
   "source": [
    "# Write a program in which i hv to make a 2-d array and dimensions should be greater than 9\n",
    "# Body Cells - Cancer(.), Living(0), Dead(X)"
   ]
  },
  {
   "cell_type": "code",
   "execution_count": null,
   "id": "8e9a461f",
   "metadata": {},
   "outputs": [],
   "source": [
    "# Dead - Does not affect living cells, it gets removed after 10 days\n",
    "# Living - They may die afetr 5 days, can also die due to loneliness(entirely surrounded by dead cells)\n",
    "# Cancer - Can affect living cell if there ar 2 or more cancer cells\n",
    "\n"
   ]
  }
 ],
 "metadata": {
  "kernelspec": {
   "display_name": "Python 3 (ipykernel)",
   "language": "python",
   "name": "python3"
  },
  "language_info": {
   "codemirror_mode": {
    "name": "ipython",
    "version": 3
   },
   "file_extension": ".py",
   "mimetype": "text/x-python",
   "name": "python",
   "nbconvert_exporter": "python",
   "pygments_lexer": "ipython3",
   "version": "3.9.7"
  }
 },
 "nbformat": 4,
 "nbformat_minor": 5
}
