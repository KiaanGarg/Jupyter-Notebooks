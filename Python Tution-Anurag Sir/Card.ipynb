{
 "cells": [
  {
   "cell_type": "markdown",
   "metadata": {},
   "source": [
    "# Card\n"
   ]
  },
  {
   "cell_type": "code",
   "execution_count": 9,
   "metadata": {},
   "outputs": [],
   "source": [
    "class Card:\n",
    "    def __init__(self, rank, suit):\n",
    "        if rank >= 2 and rank <= 14:\n",
    "            self.rank = rank\n",
    "            if rank == 11:\n",
    "                self.output1 = 'jack'\n",
    "            elif rank == 12:\n",
    "                self.output1 = 'queen'\n",
    "            elif rank == 13:\n",
    "                self.output1 = 'king'\n",
    "            elif rank == 14:\n",
    "                self.output1 = 'ace'\n",
    "            else:\n",
    "                self.output1 = rank\n",
    "        else:\n",
    "            raise ValueError(\"Wrong value inputted for rank of the card.\")\n",
    "        if suit == 'D' or suit == 'H' or suit == 'S' or suit == 'C':\n",
    "            self.suit = suit\n",
    "            if suit == 'D':\n",
    "                self.output = 'Diamonds'\n",
    "            elif suit == 'C':\n",
    "                self.output = 'Clubs'\n",
    "            elif suit == 'H':\n",
    "                self.output = 'Hearts'\n",
    "            else:\n",
    "                self.output = 'Spades'\n",
    "        else:\n",
    "            raise ValueError(\"Wrong value inputted for suit of the card.\")\n",
    "\n",
    "    def __str__(self):\n",
    "        return str(self.output1) + \" of \" + self.output\n",
    "    def __repr__(self):\n",
    "        return str(self)\n",
    "    \n",
    "    def __lt__(self, other):\n",
    "        if isinstance(other, Card):\n",
    "            return self.rank < other.rank\n",
    "        raise ValueError(\"< not supported between 'Card' and '{other.__class__.__name__}'.\")\n",
    "    def __le__(self, other):\n",
    "        if isinstance(other, Card):\n",
    "            return self.rank <= other.rank\n",
    "        raise ValueError(\"<= not supported between 'Card' and '{other.__class__.__name__}'.\")\n",
    "\n",
    "    def __eq__(self, other):\n",
    "        if isinstance(other, Card):\n",
    "            return self.rank == other.rank\n",
    "        raise ValueError(\"== not supported between 'Card' and '{other.__class__.__name__}'.\")\n",
    "    \n",
    "    def __gt__(self, other):\n",
    "        if isinstance(other, Card):\n",
    "            return self.rank > other.rank\n",
    "        raise ValueError(\"> not supported between 'Card' and '{other.__class__.__name__}'.\")\n",
    "    def __ge__(self, other):\n",
    "        if isinstance(other, Card):\n",
    "            return self.rank >= other.rank\n",
    "        raise ValueError(\">= not supported between 'Card' and '{other.__class__.__name__}'.\")"
   ]
  },
  {
   "cell_type": "code",
   "execution_count": 10,
   "metadata": {},
   "outputs": [
    {
     "name": "stdout",
     "output_type": "stream",
     "text": [
      "\n",
      "============================== ALL TESTS PASSED! ===============================\n",
      "Your submission code: bwabc5aa6455fb9d6443e1082a806bb8e3780e8d40ceb71cd855d811b0\n",
      "================================================================================\n",
      "\n"
     ]
    }
   ],
   "source": [
    "from bwsi_grader.python.card_games import grade_card\n",
    "grade_card(Card)\n"
   ]
  },
  {
   "cell_type": "markdown",
   "metadata": {},
   "source": [
    "# Deck"
   ]
  },
  {
   "cell_type": "code",
   "execution_count": 29,
   "metadata": {},
   "outputs": [],
   "source": [
    "from random import shuffle\n",
    "class Deck:\n",
    "    def __init__(self, shuffled:bool = False):\n",
    "        self.cards = []\n",
    "        suits = ['D', 'C', 'S', 'H']\n",
    "        for x1 in suits:\n",
    "            for x in range(2, 15):\n",
    "                self.cards.append(Card(x, x1))\n",
    "        self.shuffled = shuffled\n",
    "        self.dealt = 0\n",
    "        if shuffled == True:\n",
    "            self.shuffle()\n",
    "\n",
    "        print(len(self.cards))\n",
    "\n",
    "    def shuffle(self):\n",
    "        shuffle(self.cards)\n",
    "\n",
    "    def deal_card(self):\n",
    "        if self.dealt < 52:\n",
    "            self.cards.append(self.cards[0])\n",
    "            self.cards.pop(0)\n",
    "            self.dealt += 1\n",
    "            return self.cards[-1]\n",
    "        else:\n",
    "            self.cards.append(None)\n",
    "            self.dealt += 1\n",
    "            return self.cards[-1]\n",
    "\n",
    "    def reset(self):\n",
    "        c_type_rank = {'C': 0, 'H': 52, 'S': 104, 'D': 156}\n",
    "        self.cards.sort(key = lambda card: card.rank + c_type_rank.get(card.suit))\n",
    "        self.shuffled = False\n",
    "        self.dealt = 0\n",
    "\n",
    "    def __str__(self):\n",
    "        return f\"Deck(dealt {self.dealt}, shuffled={self.shuffled})\"\n",
    "    def __repr__(self):\n",
    "        return str(self)\n"
   ]
  },
  {
   "cell_type": "code",
   "execution_count": 28,
   "metadata": {},
   "outputs": [
    {
     "name": "stdout",
     "output_type": "stream",
     "text": [
      "52\n",
      "52\n",
      "52\n",
      "52\n",
      "52\n",
      "52\n",
      "52\n",
      "52\n",
      "52\n",
      "52\n",
      "52\n",
      "52\n",
      "52\n",
      "52\n",
      "52\n",
      "52\n",
      "\n",
      "============================== ALL TESTS PASSED! ===============================\n",
      "Your submission code: bwf8a088b2b1cbf19866aeb09e7b47119b3f7a822a756710366584214a\n",
      "================================================================================\n",
      "\n"
     ]
    }
   ],
   "source": [
    "from bwsi_grader.python.card_games import grade_deck\n",
    "grade_deck(Deck)\n"
   ]
  },
  {
   "cell_type": "code",
   "execution_count": 32,
   "metadata": {},
   "outputs": [
    {
     "name": "stdout",
     "output_type": "stream",
     "text": [
      "52\n",
      "Player 1 wins!\n",
      "Player 1 had the jack of Diamonds and Player 2 had the 4 of Hearts\n"
     ]
    }
   ],
   "source": [
    "def play_high_low_game():\n",
    "    d = Deck(shuffled=True)\n",
    "    p1 = d.deal_card()\n",
    "    p2 = d.deal_card()\n",
    "    print(\"It's a tie!\" if p1 == p2 else f'Player {1 if p1 > p2 else 2} wins!')\n",
    "    print(f'Player 1 had the {p1} and Player 2 had the {p2}')\n",
    "\n",
    "play_high_low_game()"
   ]
  },
  {
   "cell_type": "code",
   "execution_count": null,
   "metadata": {},
   "outputs": [],
   "source": []
  }
 ],
 "metadata": {
  "kernelspec": {
   "display_name": "Python 3.10.5 64-bit (windows store)",
   "language": "python",
   "name": "python3"
  },
  "language_info": {
   "codemirror_mode": {
    "name": "ipython",
    "version": 3
   },
   "file_extension": ".py",
   "mimetype": "text/x-python",
   "name": "python",
   "nbconvert_exporter": "python",
   "pygments_lexer": "ipython3",
   "version": "3.10.5"
  },
  "orig_nbformat": 4,
  "vscode": {
   "interpreter": {
    "hash": "cb232d9cc71af57d93c201336a6bf5d81ee83df5631a4026398df831ae94d6f5"
   }
  }
 },
 "nbformat": 4,
 "nbformat_minor": 2
}
