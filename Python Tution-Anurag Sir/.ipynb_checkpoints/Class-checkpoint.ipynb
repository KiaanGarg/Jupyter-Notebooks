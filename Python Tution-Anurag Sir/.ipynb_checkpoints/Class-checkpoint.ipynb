{
 "cells": [
  {
   "cell_type": "markdown",
   "id": "99f005b6",
   "metadata": {},
   "source": [
    "# Creating a class - Chair"
   ]
  },
  {
   "cell_type": "code",
   "execution_count": 1,
   "id": "16be8d39",
   "metadata": {},
   "outputs": [
    {
     "name": "stdout",
     "output_type": "stream",
     "text": [
      "wood\n",
      "wood is the material of the chair\n"
     ]
    }
   ],
   "source": [
    "#     4 legs\n",
    "#     Leanable\n",
    "#     Small\n",
    "#     Usually Made of Wood\n",
    "\n",
    "# syntax\n",
    "class chair:\n",
    "    # this is will be call automatically whenever you will make and object of that class\n",
    "    # this is called object initialiser -> this attaches any attribute which is not predefined\n",
    "    # and at last it return the modified object of the class\n",
    "    # this means you cannot write a return statememnt in __init__()\n",
    "    def __init__(self, material):\n",
    "        self.material = material\n",
    "\n",
    "c = chair(\"wood\")\n",
    "print(c.material)\n",
    "print(c.material, \"is the material of the chair\")\n",
    "# after making the object of the class chair __init__() is called with the object as argument to \n",
    "# __init__()"
   ]
  },
  {
   "cell_type": "markdown",
   "id": "0b443894",
   "metadata": {},
   "source": [
    "# ds\n",
    "\n"
   ]
  },
  {
   "cell_type": "code",
   "execution_count": 2,
   "id": "5ed3a158",
   "metadata": {},
   "outputs": [
    {
     "name": "stdout",
     "output_type": "stream",
     "text": [
      "70\n"
     ]
    }
   ],
   "source": [
    "class geometry:\n",
    "    def __init__(self, shape, height, width, base):\n",
    "        if(shape == \"rectangle\"):\n",
    "            self.area = height * width\n",
    "        elif(shape == \"square\"):\n",
    "            self.area = height * height\n",
    "        elif(shape == \"circle\"):\n",
    "            self.area = 3.14 * (height * width)\n",
    "        elif(shape == \"triangle\"):\n",
    "            self.area = (0.5 * base) * height\n",
    "            \n",
    "area = geometry(\"rectangle\", 5, 14, None)\n",
    "print(area.area)"
   ]
  },
  {
   "cell_type": "code",
   "execution_count": 3,
   "id": "9a38d9c6",
   "metadata": {},
   "outputs": [],
   "source": [
    "# write a loop that can take user input for 10 time and save the result of the calculation\n",
    "# in a list \n",
    "# and then you should write another loop for checking which the type fo the area"
   ]
  },
  {
   "cell_type": "code",
   "execution_count": 4,
   "id": "78616213",
   "metadata": {},
   "outputs": [],
   "source": [
    "def area(shape, height, width, base):\n",
    "    if(shape == \"rectangle\"):\n",
    "        area1 = height * width\n",
    "    elif(shape == \"square\"):\n",
    "        area1 = height * height\n",
    "    elif(shape == \"circle\"):\n",
    "        area1 = 3.14 * (height * height)\n",
    "    elif(shape == \"triangle\"):\n",
    "        area1 = (0.5 * base) * height\n",
    "    return area1"
   ]
  },
  {
   "cell_type": "code",
   "execution_count": null,
   "id": "ef7a1c20",
   "metadata": {},
   "outputs": [],
   "source": []
  },
  {
   "cell_type": "code",
   "execution_count": 5,
   "id": "113f5197",
   "metadata": {},
   "outputs": [
    {
     "name": "stdout",
     "output_type": "stream",
     "text": [
      "Enter Shape: square\n",
      "Enter Side: \n"
     ]
    },
    {
     "ename": "ValueError",
     "evalue": "invalid literal for int() with base 10: ''",
     "output_type": "error",
     "traceback": [
      "\u001b[1;31m---------------------------------------------------------------------------\u001b[0m",
      "\u001b[1;31mValueError\u001b[0m                                Traceback (most recent call last)",
      "\u001b[1;32m~\\AppData\\Local\\Temp/ipykernel_13748/3841188851.py\u001b[0m in \u001b[0;36m<module>\u001b[1;34m\u001b[0m\n\u001b[0;32m     13\u001b[0m         \u001b[0mbase\u001b[0m \u001b[1;33m=\u001b[0m \u001b[1;36m0\u001b[0m\u001b[1;33m\u001b[0m\u001b[1;33m\u001b[0m\u001b[0m\n\u001b[0;32m     14\u001b[0m         \u001b[0mwidth\u001b[0m \u001b[1;33m=\u001b[0m \u001b[1;36m0\u001b[0m\u001b[1;33m\u001b[0m\u001b[1;33m\u001b[0m\u001b[0m\n\u001b[1;32m---> 15\u001b[1;33m         \u001b[0mheight\u001b[0m \u001b[1;33m=\u001b[0m \u001b[0mint\u001b[0m\u001b[1;33m(\u001b[0m\u001b[0minput\u001b[0m\u001b[1;33m(\u001b[0m\u001b[1;34m\"Enter Side: \"\u001b[0m\u001b[1;33m)\u001b[0m\u001b[1;33m)\u001b[0m\u001b[1;33m\u001b[0m\u001b[1;33m\u001b[0m\u001b[0m\n\u001b[0m\u001b[0;32m     16\u001b[0m     \u001b[1;32melif\u001b[0m\u001b[1;33m(\u001b[0m\u001b[0mshape\u001b[0m \u001b[1;33m==\u001b[0m \u001b[1;34m\"rectangle\"\u001b[0m\u001b[1;33m)\u001b[0m\u001b[1;33m:\u001b[0m\u001b[1;33m\u001b[0m\u001b[1;33m\u001b[0m\u001b[0m\n\u001b[0;32m     17\u001b[0m         \u001b[0mbase\u001b[0m \u001b[1;33m=\u001b[0m \u001b[1;36m0\u001b[0m\u001b[1;33m\u001b[0m\u001b[1;33m\u001b[0m\u001b[0m\n",
      "\u001b[1;31mValueError\u001b[0m: invalid literal for int() with base 10: ''"
     ]
    }
   ],
   "source": [
    "list1 = []\n",
    "for x in range(0, 10):\n",
    "    shape = input(\"Enter Shape: \").lower()\n",
    "    if(shape == \"circle\"):\n",
    "        width = 0\n",
    "        base = 0\n",
    "        height = int(input(\"Enter Radius: \"))\n",
    "    elif(shape == \"triangle\"):\n",
    "        width = 0\n",
    "        base = int(input(\"Enter Base\"))\n",
    "        height = int(input(\"Enter Height: \"))\n",
    "    elif(shape == \"square\"):\n",
    "        base = 0\n",
    "        width = 0\n",
    "        height = int(input(\"Enter Side: \"))\n",
    "    elif(shape == \"rectangle\"):\n",
    "        base = 0\n",
    "        height = int(input(\"Enter Height: \"))\n",
    "        width = int(input(\"Enter Width: \"))\n",
    "        \n",
    "    area1 = area(shape, height, width, base)\n",
    "    print(area1, \"Shape is: \", shape)\n",
    "    list1.append(area1)\n",
    "    list1.append(shape)"
   ]
  },
  {
   "cell_type": "code",
   "execution_count": 6,
   "id": "4c012e70",
   "metadata": {},
   "outputs": [
    {
     "ename": "IndexError",
     "evalue": "list index out of range",
     "output_type": "error",
     "traceback": [
      "\u001b[1;31m---------------------------------------------------------------------------\u001b[0m",
      "\u001b[1;31mIndexError\u001b[0m                                Traceback (most recent call last)",
      "\u001b[1;32m~\\AppData\\Local\\Temp/ipykernel_13748/1328062242.py\u001b[0m in \u001b[0;36m<module>\u001b[1;34m\u001b[0m\n\u001b[0;32m      1\u001b[0m \u001b[1;32mfor\u001b[0m \u001b[0mx\u001b[0m \u001b[1;32min\u001b[0m \u001b[0mrange\u001b[0m\u001b[1;33m(\u001b[0m\u001b[1;36m0\u001b[0m\u001b[1;33m,\u001b[0m \u001b[1;36m20\u001b[0m\u001b[1;33m,\u001b[0m \u001b[1;36m2\u001b[0m\u001b[1;33m)\u001b[0m\u001b[1;33m:\u001b[0m\u001b[1;33m\u001b[0m\u001b[1;33m\u001b[0m\u001b[0m\n\u001b[1;32m----> 2\u001b[1;33m     \u001b[0mprint\u001b[0m\u001b[1;33m(\u001b[0m\u001b[0mlist1\u001b[0m\u001b[1;33m[\u001b[0m\u001b[0mx\u001b[0m\u001b[1;33m]\u001b[0m\u001b[1;33m,\u001b[0m \u001b[1;34m\" Shape: \"\u001b[0m\u001b[1;33m,\u001b[0m \u001b[0mlist1\u001b[0m\u001b[1;33m[\u001b[0m\u001b[0mx\u001b[0m \u001b[1;33m+\u001b[0m \u001b[1;36m1\u001b[0m\u001b[1;33m]\u001b[0m\u001b[1;33m,\u001b[0m \u001b[1;34m\"\\n\"\u001b[0m\u001b[1;33m)\u001b[0m\u001b[1;33m\u001b[0m\u001b[1;33m\u001b[0m\u001b[0m\n\u001b[0m",
      "\u001b[1;31mIndexError\u001b[0m: list index out of range"
     ]
    }
   ],
   "source": [
    "for x in range(0, 20, 2):\n",
    "    print(list1[x], \" Shape: \", list1[x + 1], \"\\n\")"
   ]
  },
  {
   "cell_type": "code",
   "execution_count": 7,
   "id": "ec32188b",
   "metadata": {},
   "outputs": [
    {
     "name": "stdout",
     "output_type": "stream",
     "text": [
      "Enter the Radius: 23\n"
     ]
    },
    {
     "data": {
      "text/plain": [
       "circle area=1661.0600000000002"
      ]
     },
     "execution_count": 7,
     "metadata": {},
     "output_type": "execute_result"
    }
   ],
   "source": [
    "class shape:\n",
    "    # shapes accepted are -> \n",
    "    # 1. rectangle -> l x b\n",
    "    # 2. square -> side\n",
    "    # 3. triangle -> (0.5 * base) x height\n",
    "    # 4. Circle -> pi * r **2\n",
    "    \n",
    "    def __init__(self, shape):\n",
    "        self.type_ = shape.lower().strip()\n",
    "        if self.type_ == \"rectangle\":\n",
    "            self.d1 = float(input(\"Enter the length: \"))\n",
    "            self.d2 = float(input(\"Enter the width: \"))\n",
    "        elif self.type_ == \"square\":\n",
    "            self.d1 = float(input(\"Enter the Side: \"))\n",
    "        elif self.type_ == \"triangle\":\n",
    "            self.d1 = float(input(\"Enter the Base: \"))\n",
    "            self.d2 = float(input(\"Enter the Height: \"))\n",
    "        elif self.type_ == \"circle\":\n",
    "            self.d1 = float(input(\"Enter the Radius: \"))\n",
    "            \n",
    "    def get_area(self):\n",
    "        if(self.type_ == \"rectangle\"):\n",
    "            area = self.d1 * self.d2\n",
    "        elif(self.type_ == \"square\"):\n",
    "            area = self.d1 ** 2\n",
    "        elif(self.type_ == \"circle\"):\n",
    "            area = 3.14 * (self.d1 ** 2)\n",
    "        elif(self.type_ == \"triangle\"):\n",
    "            area = (0.5 * self.d1) * self.d2\n",
    "        return area\n",
    "    \n",
    "    def __str__(self):\n",
    "        return \"shape(\"+self.type_ + \" area=\"+str(self.get_area())+\")\"\n",
    "    def __repr__(self):\n",
    "        return str(self)\n",
    "            \n",
    "sh1 = shape(\"circle\")\n",
    "sh1"
   ]
  },
  {
   "cell_type": "code",
   "execution_count": 9,
   "id": "562f7671",
   "metadata": {},
   "outputs": [
    {
     "name": "stdout",
     "output_type": "stream",
     "text": [
      "Enter the no.of shaped you want to enter: 3\n",
      "Enter the shape: rectangle\n",
      "Enter the length: 6\n",
      "Enter the width: 7\n",
      "Enter the shape: square\n",
      "Enter the Side: 9\n",
      "Enter the shape: circle\n",
      "Enter the Radius: 18\n"
     ]
    },
    {
     "data": {
      "text/plain": [
       "[rectangle area=42.0, square area=81.0, circle area=1017.36]"
      ]
     },
     "execution_count": 9,
     "metadata": {},
     "output_type": "execute_result"
    }
   ],
   "source": [
    "n = int(input(\"Enter the no.of shaped you want to enter: \"))\n",
    "lst = []\n",
    "for _ in range(n):\n",
    "    sh = shape(input(\"Enter the shape: \"))\n",
    "    lst.append(sh)\n",
    "# for sh in lst:\n",
    "#     print(sh.get_area())\n",
    "lst"
   ]
  },
  {
   "cell_type": "code",
   "execution_count": null,
   "id": "f24085ec",
   "metadata": {},
   "outputs": [],
   "source": []
  },
  {
   "cell_type": "code",
   "execution_count": null,
   "id": "3dad061a",
   "metadata": {},
   "outputs": [],
   "source": []
  }
 ],
 "metadata": {
  "kernelspec": {
   "display_name": "Python 3 (ipykernel)",
   "language": "python",
   "name": "python3"
  },
  "language_info": {
   "codemirror_mode": {
    "name": "ipython",
    "version": 3
   },
   "file_extension": ".py",
   "mimetype": "text/x-python",
   "name": "python",
   "nbconvert_exporter": "python",
   "pygments_lexer": "ipython3",
   "version": "3.9.7"
  }
 },
 "nbformat": 4,
 "nbformat_minor": 5
}
