{
 "cells": [
  {
   "cell_type": "code",
   "execution_count": 20,
   "id": "f07537d8",
   "metadata": {},
   "outputs": [],
   "source": [
    "class Date:\n",
    "    def __init__(self, day, month, year):\n",
    "        self.year = year\n",
    "        \n",
    "        \n",
    "        if month <= 12:\n",
    "            self.month = month\n",
    "        else:\n",
    "            month = input(\"Month: \")\n",
    "            self.month = month\n",
    "            \n",
    "            \n",
    "        if self.year % 4 == 0:\n",
    "            if (self.year % 100 != 0) or (self.year % 100 == 0 and self.year % 400 == 0):\n",
    "                if self.month == 2:\n",
    "                    if day <= 29:\n",
    "                        self.day = day\n",
    "                    else:\n",
    "                        day = input(\"Date: \")\n",
    "                        self.day = day\n",
    "                elif month == 1 or month == 3 or month == 5 or month == 7 or month == 8 or month == 10 or month == 12:\n",
    "                    if day <= 31:\n",
    "                        self.day = day\n",
    "                    else:\n",
    "                        day = input(\"Date: \")\n",
    "                        self.day = day\n",
    "                elif day <= 30:\n",
    "                    self.day = day\n",
    "                else:\n",
    "                    day = input(\"Date: \")\n",
    "                    self.day = day\n",
    "                    \n",
    "        else:\n",
    "            if month == 1 or month == 3 or month == 5 or month == 7 or month == 8 or month == 10 or month == 12:\n",
    "                if day <= 31:\n",
    "                    self.day = day\n",
    "                else:\n",
    "                        day = input(\"Date: \")\n",
    "                        self.day = day\n",
    "            if day <= 30:\n",
    "                self.day = day\n",
    "            else:\n",
    "                day = input(\"Date: \")\n",
    "                self.day = day\n",
    "                \n",
    "                \n",
    "    \n",
    "    def __str__(self):\n",
    "        return f\"Date({self.day}, {self.month}, {self.year})\"\n",
    "    \n",
    "    def __repr__(self):\n",
    "        return str(self)\n",
    "    \n",
    "    def __eq__(self, other):\n",
    "        if isinstance(other, Date):\n",
    "            return self.day == other.day and self.month == other.month and self.year == other.year\n",
    "        raise Exception(f\"== is not supported between 'Date' and {other.__class__.__name__}\")\n",
    "        \n",
    "    def __lt__(self, other):\n",
    "        if isinstance(other, Date):\n",
    "            return self.year < other.year or self.month < other.month or self.day < other.day\n",
    "        raise Exception(f\"< is not supported between 'Date' and '{other.__class__.__name__}'\")\n",
    "    def __gt__(self, other):\n",
    "        if not isinstance(other, Date):\n",
    "            raise Exception(f\"> is not supported between 'Date' and '{other.__class__.__name__}'\")\n",
    "            \n",
    "#     def __le__(self, other):\n",
    "#         if isinstance(other, Date):\n",
    "#             if(self.year == other.year and self.month == other.month and self.day == other.day):\n",
    "#                 return True\n",
    "#             elif(self.year >= other.year and self.month == other.month and self.day == other.day):\n",
    "#                 return False\n",
    "#             elif(self.year == other.year and self.month >= other.month and self.day == other.day):\n",
    "#                 return False\n",
    "#             elif(self.year == other.year and self.month == other.month and self.day >= other.day):\n",
    "#                 return False\n",
    "#             elif(self.year <= other.year and self.month == other.month and self.day == other.day):\n",
    "#                 return True\n",
    "#             elif(self.year == other.year and self.month <= other.month and self.day == other.day):\n",
    "#                 return True\n",
    "#             elif(self.year == other.year and self.month == other.month and self.day <= other.day):\n",
    "#                 return True\n",
    "#         raise Exception(f\"<= is not supported between 'Date' and '{other.__class__.__name__}'\")\n",
    "    def __le__(self, other):\n",
    "        if isinstance(other, Date):\n",
    "            if self.year == other.year:\n",
    "                if self.month == other.month:\n",
    "                    if self.day <= other.day:\n",
    "                        return True\n",
    "                    return False\n",
    "                else:\n",
    "                    if self.month < other.month:\n",
    "                        return True\n",
    "                    return False\n",
    "            else:\n",
    "                if self.year < other.year:\n",
    "                    return True\n",
    "                return False\n",
    "        raise Exception(f\"<= is not supported between 'Date' and '{other.__class__.__name__}'\")\n",
    "        \n",
    "    def __add__(self, other):\n",
    "        if isinstance(other, int):\n",
    "            # TODO: add the given integer to the current date\n",
    "            # and the date should be changed inplace \n",
    "            for x in range(other):\n",
    "                if self.year % 4 == 0:\n",
    "                    if (self.year % 100 != 0) or (self.year % 100 == 0 and self.year % 400 == 0):\n",
    "                        if self.month == 2:\n",
    "                            if self.day <= 28:\n",
    "                                self.day += 1\n",
    "                            else:\n",
    "                                self.month += 1\n",
    "                                self.day = 1\n",
    "                    else:\n",
    "                        if self.month == 1 or self.month == 3 or self.month == 5 or self.month == 7 or self.month == 8 or self.month == 10:\n",
    "                            if self.day <= 30:\n",
    "                                self.day += 1\n",
    "                            else:\n",
    "                                self.month += 1\n",
    "                                self.day = 1\n",
    "                        elif self.month == 2 or self.month == 4 or self.month == 6 or self.month == 9 or self.month == 11:\n",
    "                            if self.day <= 29:\n",
    "                                self.day += 1 \n",
    "                            else:\n",
    "                                self.month += 1\n",
    "                                self.day = 1\n",
    "                        elif self.month == 12:\n",
    "                            if self.day <= 31:\n",
    "                                self.day += 1\n",
    "                            else:\n",
    "                                self.year += 1\n",
    "                                self.month = 1\n",
    "                                self.day = 1\n",
    "                else:\n",
    "                        if self.month == 1 or self.month == 3 or self.month == 5 or self.month == 7 or self.month == 8 or self.month == 10:\n",
    "                            if self.day <= 30:\n",
    "                                self.day += 1\n",
    "                            else:\n",
    "                                self.month += 1\n",
    "                                self.day = 1\n",
    "                        elif self.month == 2 or self.month == 4 or self.month == 6 or self.month == 9 or self.month == 11:\n",
    "                            if self.day <= 29:\n",
    "                                self.day += 1 \n",
    "                            else:\n",
    "                                self.month += 1\n",
    "                                self.day = 1\n",
    "                        elif self.month == 12:\n",
    "                            if self.day <= 31:\n",
    "                                self.day += 1\n",
    "                            else:\n",
    "                                self.year += 1\n",
    "                                self.month = 1\n",
    "                                self.day = 1\n",
    "            return str(self.day) + \"/\" + str(self.month) + \"/\" + str(self.year)\n",
    "                                \n",
    "                \n",
    "        raise ValueError(f\"+ is not defined for 'Date' and '{other.__class__.__name__}'\")\n",
    "        \n"
   ]
  },
  {
   "cell_type": "code",
   "execution_count": 21,
   "id": "650b4d4a",
   "metadata": {},
   "outputs": [
    {
     "name": "stdout",
     "output_type": "stream",
     "text": [
      "Date: \n"
     ]
    },
    {
     "data": {
      "text/plain": [
       "Date(, 2, 2000)"
      ]
     },
     "execution_count": 21,
     "metadata": {},
     "output_type": "execute_result"
    }
   ],
   "source": [
    "dir(Date)\n",
    "# abs(-1)\n",
    "dt = Date(30,2,2000)\n",
    "dt"
   ]
  },
  {
   "cell_type": "code",
   "execution_count": 22,
   "id": "138835fb",
   "metadata": {},
   "outputs": [
    {
     "data": {
      "text/plain": [
       "'1/3/2000'"
      ]
     },
     "execution_count": 22,
     "metadata": {},
     "output_type": "execute_result"
    }
   ],
   "source": [
    "dt2 = Date(29,2,2000)\n",
    "dt2 + 1"
   ]
  },
  {
   "cell_type": "markdown",
   "id": "7e50d07e",
   "metadata": {},
   "source": [
    "## "
   ]
  },
  {
   "cell_type": "code",
   "execution_count": null,
   "id": "92b11fa0",
   "metadata": {},
   "outputs": [],
   "source": [
    "# Homework - Write student class, check if equal\n",
    "# use eq method \n",
    "# 2 students are equal when school, div, section are same"
   ]
  },
  {
   "cell_type": "code",
   "execution_count": 37,
   "id": "fa849fe3",
   "metadata": {},
   "outputs": [
    {
     "ename": "SyntaxError",
     "evalue": "invalid syntax (Temp/ipykernel_6320/1467107797.py, line 13)",
     "output_type": "error",
     "traceback": [
      "\u001b[1;36m  File \u001b[1;32m\"C:\\Users\\premk\\AppData\\Local\\Temp/ipykernel_6320/1467107797.py\"\u001b[1;36m, line \u001b[1;32m13\u001b[0m\n\u001b[1;33m    else:\u001b[0m\n\u001b[1;37m    ^\u001b[0m\n\u001b[1;31mSyntaxError\u001b[0m\u001b[1;31m:\u001b[0m invalid syntax\n"
     ]
    }
   ],
   "source": [
    "# taking inputs\n",
    "import random, datetime\n",
    "def get_new_date(current_date, change_in_date):\n",
    "    datelist = current_date.split('/')\n",
    "    dd, mm, yyyy = int(datelist[0]), int(datelist[1]), int(datelist[2]) # dd-> date, mm-> month, yyyy-> year in the date given\n",
    "    \n",
    "    # ndd -> new date, nmm-> new_date, nyyyy-> new_year\n",
    "    if yyyy % 4 == 0:\n",
    "        if (yyyy % 100 != 0) or (yyyy % 100 == 0 and yyyy % 400 == 0):\n",
    "            if mm == 2:\n",
    "                ndd, nmm, nyyyy = ((dd+change_in_date) % 29), (mm + ((dd + change_in_date) // 29))% 12, (yyyy + ((dd + change_in_date) // (29 * 12)))\n",
    "                return '/'.join((str(ndd + (ndd == 0)), str(nmm+ (nmm == 0)), str(nyyyy))\n",
    "        else:\n",
    "            ndd, nmm, nyyyy = ((dd+change_in_date) % 28), (mm + ((dd + change_in_date) // 28))% 12, (yyyy + ((dd + change_in_date) // (28 * 12)))\n",
    "            return '/'.join((str(ndd + (ndd == 0)), str(nmm+ (nmm == 0)), str(nyyyy))\n",
    "    if mm == 1 or mm == 3 or mm == 5 or mm == 7 or mm == 8 or mm == 10 or mm == 12:\n",
    "        ndd, nmm, nyyyy = ((dd+change_in_date) % 31), (mm + ((dd + change_in_date) // 31))% 12, (yyyy + ((dd + change_in_date) // (31 * 12)))\n",
    "    elif mm == 2 or mm == 4 or mm == 6 or mm == 9 or mm == 11:\n",
    "        ndd, nmm, nyyyy = ((dd+change_in_date) % 30), (mm + ((dd + change_in_date) // 30))% 12, (yyyy + ((dd + change_in_date) // (30 * 12)))\n",
    "\n",
    "    return '/'.join((str(ndd + (ndd == 0)), str(nmm+ (nmm == 0)), str(nyyyy)))\n",
    "\n",
    "current_date = \"28/2/2001\"\n",
    "change_in_date = 1\n",
    "\n",
    "print(\"In\", change_in_date, \"days,\",current_date,\"will be\", get_new_date(current_date, change_in_date))"
   ]
  },
  {
   "cell_type": "code",
   "execution_count": null,
   "id": "d3c7acd9",
   "metadata": {},
   "outputs": [],
   "source": []
  },
  {
   "cell_type": "code",
   "execution_count": null,
   "id": "83ca4597",
   "metadata": {},
   "outputs": [],
   "source": []
  },
  {
   "cell_type": "code",
   "execution_count": null,
   "id": "5d4917d1",
   "metadata": {},
   "outputs": [],
   "source": []
  },
  {
   "cell_type": "code",
   "execution_count": null,
   "id": "192ae1b5",
   "metadata": {},
   "outputs": [],
   "source": []
  }
 ],
 "metadata": {
  "kernelspec": {
   "display_name": "Python 3 (ipykernel)",
   "language": "python",
   "name": "python3"
  },
  "language_info": {
   "codemirror_mode": {
    "name": "ipython",
    "version": 3
   },
   "file_extension": ".py",
   "mimetype": "text/x-python",
   "name": "python",
   "nbconvert_exporter": "python",
   "pygments_lexer": "ipython3",
   "version": "3.9.7"
  }
 },
 "nbformat": 4,
 "nbformat_minor": 5
}
