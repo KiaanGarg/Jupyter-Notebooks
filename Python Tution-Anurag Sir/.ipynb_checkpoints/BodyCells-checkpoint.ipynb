{
 "cells": [
  {
   "cell_type": "code",
   "execution_count": null,
   "id": "36e80f2d",
   "metadata": {},
   "outputs": [],
   "source": [
    "# Body Cells - Cancer(.), Living(0), Dead(X)\n",
    "# Dead - Does not affect living cells, it gets removed after 10 days\n",
    "# Living - They may die afetr 5 days, can also die due to loneliness(entirely surrounded by dead cells)\n",
    "# Cancer - Can affect living cell if there ar 2 or more cancer cells\n"
   ]
  },
  {
   "cell_type": "code",
   "execution_count": 1,
   "id": "c3fe1cff",
   "metadata": {},
   "outputs": [],
   "source": [
    "from random import randint\n",
    "\n",
    "class Dead:\n",
    "    def __init__(self, dead_day = None):\n",
    "        if dead_day is None:\n",
    "            self.dead_days = randint(0, 10)\n",
    "        elif isinstance(dead_day, int):\n",
    "            self.dead_days = dead_day\n",
    "            \n",
    "            \n",
    "            \n",
    "class Live:\n",
    "    def __init__(self, days = None): \n",
    "        if days == None:\n",
    "            self.live_days:int = randint(0, 5)\n",
    "        elif isinstance(days, int):\n",
    "            self.live_days = days\n",
    "            \n",
    "    def is_surrounded(self,lst: list, index: tuple) -> bool:\n",
    "        pass\n",
    "        \n",
    "            "
   ]
  },
  {
   "cell_type": "code",
   "execution_count": null,
   "id": "58dde55a",
   "metadata": {},
   "outputs": [],
   "source": [
    "[\n",
    "[1,2,3,4],\n",
    "[1,2,3,4],\n",
    "[1,2,3,4],\n",
    "[1,2,3,4],\n",
    "[1,2,3,4]\n",
    "]\n",
    "\n",
    "(3,3)\n",
    "(1, 1), (1, 2), 1, "
   ]
  }
 ],
 "metadata": {
  "kernelspec": {
   "display_name": "Python 3 (ipykernel)",
   "language": "python",
   "name": "python3"
  },
  "language_info": {
   "codemirror_mode": {
    "name": "ipython",
    "version": 3
   },
   "file_extension": ".py",
   "mimetype": "text/x-python",
   "name": "python",
   "nbconvert_exporter": "python",
   "pygments_lexer": "ipython3",
   "version": "3.9.7"
  }
 },
 "nbformat": 4,
 "nbformat_minor": 5
}
