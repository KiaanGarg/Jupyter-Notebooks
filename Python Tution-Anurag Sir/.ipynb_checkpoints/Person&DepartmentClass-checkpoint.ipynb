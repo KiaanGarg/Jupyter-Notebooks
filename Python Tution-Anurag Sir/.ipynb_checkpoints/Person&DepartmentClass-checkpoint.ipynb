{
 "cells": [
  {
   "cell_type": "code",
   "execution_count": 1,
   "id": "1bc4b0b4",
   "metadata": {},
   "outputs": [],
   "source": [
    "class person:\n",
    "    def __init__(self, name, age):\n",
    "        self.name_ = name\n",
    "        self.age_ = age\n",
    "    def  __str__(self):\n",
    "        return \"Name: \" + self.name_ + \" Age: \"+ str(self.age_)\n",
    "    def __repr__(self):\n",
    "        return str(self)"
   ]
  },
  {
   "cell_type": "code",
   "execution_count": 17,
   "id": "b889b8e4",
   "metadata": {},
   "outputs": [],
   "source": [
    "class department:\n",
    "    def __init__(self, name, strength):\n",
    "        self.name = name\n",
    "        self.strength = strength # maxx alowe\n",
    "        self.working_emps = []\n",
    "        \n",
    "    def __str__(self):\n",
    "        return \"Name: \" + str(self.name) +\", Strength: \"+ str(self.strength)\n",
    "    def __repr__(self):\n",
    "        return str(self)\n",
    "    \n",
    "    def add_employee(self, emp):\n",
    "        if len(self.working_emps) < self.strength:\n",
    "            self.working_emps.append(emp)\n",
    "            return True\n",
    "        return False\n",
    "            "
   ]
  },
  {
   "cell_type": "code",
   "execution_count": 24,
   "id": "4f010394",
   "metadata": {},
   "outputs": [],
   "source": [
    "class employee:\n",
    "    def __init__(self, name, age, department_, salary, percentage):\n",
    "        self.person = person(name, age)\n",
    "        self.emp_dep = department_ # conection to department\n",
    "        if not self.emp_dep.add_employee(self): # ba\n",
    "            print(\"cannot add to the department.\")\n",
    "        self.emp_sal = salary\n",
    "        self.percent = percentage\n",
    "        \n",
    "    def enhanced(self):\n",
    "        return self.emp_sal - ((self.percent / 100) * self.emp_sal)\n",
    "        \n",
    "    def __str__(self):\n",
    "        return self.person + \" Department: \" + str(self.emp_dep) + \" Percent Deducted Salary: \" + str(self.enhanced()) \n",
    "    def __repr__(self):\n",
    "        return str(self)"
   ]
  },
  {
   "cell_type": "code",
   "execution_count": 19,
   "id": "89bfa5b5",
   "metadata": {},
   "outputs": [
    {
     "name": "stdout",
     "output_type": "stream",
     "text": [
      "Enter the name of the department: IT\n",
      "The Maximum Strength of th class56\n",
      "Enter the name of the department: Food\n",
      "The Maximum Strength of th class13\n",
      "Enter the name of the department: HR\n",
      "The Maximum Strength of th class5\n",
      "Enter the name of the department: MANAGEMENT\n",
      "The Maximum Strength of th class17\n",
      "Enter the name of the department: BOARD\n",
      "The Maximum Strength of th class23\n",
      "Enter the name of the department: YOUTUBERS\n",
      "The Maximum Strength of th class12\n",
      "Enter the name of the department: INFLUENCERS\n",
      "The Maximum Strength of th class12\n",
      "Enter the name of the department: SDAs\n",
      "The Maximum Strength of th class23\n",
      "Enter the name of the department: ASD\n",
      "The Maximum Strength of th class23\n",
      "Enter the name of the department: ADWEFA\n",
      "The Maximum Strength of th class23\n",
      "[Name: IT, Strength: 56, Name: Food, Strength: 13, Name: HR, Strength: 5, Name: MANAGEMENT, Strength: 17, Name: BOARD, Strength: 23, Name: YOUTUBERS, Strength: 12, Name: INFLUENCERS, Strength: 12, Name: SDAs, Strength: 23, Name: ASD, Strength: 23, Name: ADWEFA, Strength: 23]\n"
     ]
    }
   ],
   "source": [
    "\n",
    "'''\n",
    "this function will be making departments and then adding multiple emps\n",
    "to the department\n",
    "Returns:\n",
    "    Departments_list\n",
    "'''\n",
    "dept_lst = [department(\n",
    "    input(\"Enter the name of the department: \"),\n",
    "    int(input(\"The Maximum Strength of th class\"))\n",
    ") for _ in range(10)]\n",
    "print(dept_lst)\n",
    "    \n"
   ]
  },
  {
   "cell_type": "code",
   "execution_count": 23,
   "id": "40670ee0",
   "metadata": {},
   "outputs": [
    {
     "name": "stdout",
     "output_type": "stream",
     "text": [
      "Name of the employee: Kiaan Garg\n",
      "Age: 11\n",
      "Salary: 10000000000\n",
      "Percentage: 12\n"
     ]
    },
    {
     "ename": "TypeError",
     "evalue": "add_employee() missing 1 required positional argument: 'emp'",
     "output_type": "error",
     "traceback": [
      "\u001b[1;31m---------------------------------------------------------------------------\u001b[0m",
      "\u001b[1;31mTypeError\u001b[0m                                 Traceback (most recent call last)",
      "\u001b[1;32m~\\AppData\\Local\\Temp/ipykernel_15976/843202071.py\u001b[0m in \u001b[0;36m<module>\u001b[1;34m\u001b[0m\n\u001b[0;32m      1\u001b[0m \u001b[1;32mfrom\u001b[0m \u001b[0mrandom\u001b[0m \u001b[1;32mimport\u001b[0m \u001b[0mchoice\u001b[0m\u001b[1;33m\u001b[0m\u001b[1;33m\u001b[0m\u001b[0m\n\u001b[0;32m      2\u001b[0m \u001b[1;33m\u001b[0m\u001b[0m\n\u001b[1;32m----> 3\u001b[1;33m emp_lst = [employee(\n\u001b[0m\u001b[0;32m      4\u001b[0m     \u001b[0minput\u001b[0m\u001b[1;33m(\u001b[0m\u001b[1;34m\"Name of the employee: \"\u001b[0m\u001b[1;33m)\u001b[0m\u001b[1;33m,\u001b[0m\u001b[1;33m\u001b[0m\u001b[1;33m\u001b[0m\u001b[0m\n\u001b[0;32m      5\u001b[0m     \u001b[0mint\u001b[0m\u001b[1;33m(\u001b[0m\u001b[0minput\u001b[0m\u001b[1;33m(\u001b[0m\u001b[1;34m\"Age: \"\u001b[0m\u001b[1;33m)\u001b[0m\u001b[1;33m)\u001b[0m\u001b[1;33m,\u001b[0m\u001b[1;33m\u001b[0m\u001b[1;33m\u001b[0m\u001b[0m\n",
      "\u001b[1;32m~\\AppData\\Local\\Temp/ipykernel_15976/843202071.py\u001b[0m in \u001b[0;36m<listcomp>\u001b[1;34m(.0)\u001b[0m\n\u001b[0;32m      1\u001b[0m \u001b[1;32mfrom\u001b[0m \u001b[0mrandom\u001b[0m \u001b[1;32mimport\u001b[0m \u001b[0mchoice\u001b[0m\u001b[1;33m\u001b[0m\u001b[1;33m\u001b[0m\u001b[0m\n\u001b[0;32m      2\u001b[0m \u001b[1;33m\u001b[0m\u001b[0m\n\u001b[1;32m----> 3\u001b[1;33m emp_lst = [employee(\n\u001b[0m\u001b[0;32m      4\u001b[0m     \u001b[0minput\u001b[0m\u001b[1;33m(\u001b[0m\u001b[1;34m\"Name of the employee: \"\u001b[0m\u001b[1;33m)\u001b[0m\u001b[1;33m,\u001b[0m\u001b[1;33m\u001b[0m\u001b[1;33m\u001b[0m\u001b[0m\n\u001b[0;32m      5\u001b[0m     \u001b[0mint\u001b[0m\u001b[1;33m(\u001b[0m\u001b[0minput\u001b[0m\u001b[1;33m(\u001b[0m\u001b[1;34m\"Age: \"\u001b[0m\u001b[1;33m)\u001b[0m\u001b[1;33m)\u001b[0m\u001b[1;33m,\u001b[0m\u001b[1;33m\u001b[0m\u001b[1;33m\u001b[0m\u001b[0m\n",
      "\u001b[1;32m~\\AppData\\Local\\Temp/ipykernel_15976/819415011.py\u001b[0m in \u001b[0;36m__init__\u001b[1;34m(self, name, age, department_, salary, percentage)\u001b[0m\n\u001b[0;32m      3\u001b[0m         \u001b[0mself\u001b[0m\u001b[1;33m.\u001b[0m\u001b[0mperson\u001b[0m \u001b[1;33m=\u001b[0m \u001b[0mperson\u001b[0m\u001b[1;33m(\u001b[0m\u001b[0mname\u001b[0m\u001b[1;33m,\u001b[0m \u001b[0mage\u001b[0m\u001b[1;33m)\u001b[0m\u001b[1;33m\u001b[0m\u001b[1;33m\u001b[0m\u001b[0m\n\u001b[0;32m      4\u001b[0m         \u001b[0mself\u001b[0m\u001b[1;33m.\u001b[0m\u001b[0memp_dep\u001b[0m \u001b[1;33m=\u001b[0m \u001b[0mdepartment_\u001b[0m \u001b[1;31m# conection to department\u001b[0m\u001b[1;33m\u001b[0m\u001b[1;33m\u001b[0m\u001b[0m\n\u001b[1;32m----> 5\u001b[1;33m         \u001b[1;32mif\u001b[0m \u001b[1;32mnot\u001b[0m \u001b[0mdepartment\u001b[0m\u001b[1;33m.\u001b[0m\u001b[0madd_employee\u001b[0m\u001b[1;33m(\u001b[0m\u001b[0mself\u001b[0m\u001b[1;33m)\u001b[0m\u001b[1;33m:\u001b[0m \u001b[1;31m# ba\u001b[0m\u001b[1;33m\u001b[0m\u001b[1;33m\u001b[0m\u001b[0m\n\u001b[0m\u001b[0;32m      6\u001b[0m             \u001b[0mprint\u001b[0m\u001b[1;33m(\u001b[0m\u001b[1;34m\"cannot add to the department.\"\u001b[0m\u001b[1;33m)\u001b[0m\u001b[1;33m\u001b[0m\u001b[1;33m\u001b[0m\u001b[0m\n\u001b[0;32m      7\u001b[0m         \u001b[0mself\u001b[0m\u001b[1;33m.\u001b[0m\u001b[0memp_sal\u001b[0m \u001b[1;33m=\u001b[0m \u001b[0msalary\u001b[0m\u001b[1;33m\u001b[0m\u001b[1;33m\u001b[0m\u001b[0m\n",
      "\u001b[1;31mTypeError\u001b[0m: add_employee() missing 1 required positional argument: 'emp'"
     ]
    }
   ],
   "source": [
    "from random import choice\n",
    "\n",
    "emp_lst = [employee(\n",
    "    input(\"Name of the employee: \"),\n",
    "    int(input(\"Age: \")),\n",
    "    choice(dept_lst),\n",
    "    float(input(\"Salary: \")),\n",
    "    float(input(\"Percentage: \"))\n",
    ") for _ in range(10)]"
   ]
  },
  {
   "cell_type": "code",
   "execution_count": 8,
   "id": "07e416df",
   "metadata": {},
   "outputs": [
    {
     "name": "stdout",
     "output_type": "stream",
     "text": [
      "[[Name: Kiaan Garg Department: IT Age: 11], [Name: Anurag Pandey Department: IT Age: 22]]\n"
     ]
    }
   ],
   "source": [
    "list1 = [\n",
    "    [dep1],\n",
    "    [dep2]\n",
    "]\n",
    "print(list1)"
   ]
  },
  {
   "cell_type": "code",
   "execution_count": null,
   "id": "4d32f5e5",
   "metadata": {},
   "outputs": [],
   "source": []
  }
 ],
 "metadata": {
  "kernelspec": {
   "display_name": "Python 3 (ipykernel)",
   "language": "python",
   "name": "python3"
  },
  "language_info": {
   "codemirror_mode": {
    "name": "ipython",
    "version": 3
   },
   "file_extension": ".py",
   "mimetype": "text/x-python",
   "name": "python",
   "nbconvert_exporter": "python",
   "pygments_lexer": "ipython3",
   "version": "3.9.7"
  }
 },
 "nbformat": 4,
 "nbformat_minor": 5
}
