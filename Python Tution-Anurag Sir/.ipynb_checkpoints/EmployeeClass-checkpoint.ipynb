{
 "cells": [
  {
   "cell_type": "code",
   "execution_count": 16,
   "id": "f499e469",
   "metadata": {},
   "outputs": [],
   "source": [
    "class employee:\n",
    "    def __init__(self, name, department, salary, percentage):\n",
    "        self.emp_name = name\n",
    "        self.emp_dep = department\n",
    "        self.emp_sal = salary\n",
    "        self.percent = percentage\n",
    "        \n",
    "    def enhanced(self):\n",
    "        return self.emp_sal - ((self.percent / 100) * self.emp_sal)\n",
    "        \n",
    "    def __str__(self):\n",
    "        return \"Name: \" + str(self.emp_name) + \" Department: \" + str(self.emp_dep) + \" Percent Deducted Salary: \" + str(self.enhanced()) \n",
    "    def __repr__(self):\n",
    "        return str(self)"
   ]
  },
  {
   "cell_type": "code",
   "execution_count": 27,
   "id": "956a0476",
   "metadata": {},
   "outputs": [
    {
     "name": "stdout",
     "output_type": "stream",
     "text": [
      "Enter Name: Anruag\n",
      "Enter Department: IT\n",
      "Enter Salary: 230955\n",
      "Enter Percentage: 67\n"
     ]
    },
    {
     "data": {
      "text/plain": [
       "[[Name: Anruag Department: IT Percent Deducted Salary: 76215.15],\n",
       " [Name: Anruag Department: IT Percent Deducted Salary: 76215.15],\n",
       " [Name: Anruag Department: IT Percent Deducted Salary: 76215.15],\n",
       " [Name: Anruag Department: IT Percent Deducted Salary: 76215.15]]"
      ]
     },
     "execution_count": 27,
     "metadata": {},
     "output_type": "execute_result"
    }
   ],
   "source": [
    "emp = employee(input(\"Enter Name: \"), input(\"Enter Department: \"), int(input(\"Enter Salary: \")), int(input(\"Enter Percentage: \")))\n",
    "lst = [\n",
    "    [emp] for x in range(4)\n",
    "]\n",
    "emp\n",
    "print(lst)\n",
    "emp.emp_sal = 785437\n",
    "lst"
   ]
  },
  {
   "cell_type": "code",
   "execution_count": 26,
   "id": "5804e428",
   "metadata": {},
   "outputs": [
    {
     "name": "stdout",
     "output_type": "stream",
     "text": [
      "[3, 3, 4235, 5, 5, 435, 43, 5, 23423]\n"
     ]
    },
    {
     "data": {
      "text/plain": [
       "[4, 3, 3, 4235, 32, 34, 32, 5, 54, 5, 4, 54334, 54, 36, 435, 43, 5, 34, 23423]"
      ]
     },
     "execution_count": 26,
     "metadata": {},
     "output_type": "execute_result"
    }
   ],
   "source": [
    "def list_op(lst):\n",
    "    for index, data in enumerate(lst): # index and data\n",
    "        if data % 2 == 0:\n",
    "            lst[index] = None\n",
    "    while None in lst:\n",
    "        lst.remove(None)\n",
    "    print(lst)\n",
    "\n",
    "ls = [4,3,3,4235,32,34,32,5,54,5,4,54334,54,36,435,43,5,34,23423]\n",
    "list_op(ls.copy())\n",
    "ls"
   ]
  },
  {
   "cell_type": "markdown",
   "id": "4bfccb9d",
   "metadata": {},
   "source": [
    "## F String"
   ]
  },
  {
   "cell_type": "code",
   "execution_count": null,
   "id": "a549301d",
   "metadata": {},
   "outputs": [],
   "source": []
  }
 ],
 "metadata": {
  "kernelspec": {
   "display_name": "Python 3 (ipykernel)",
   "language": "python",
   "name": "python3"
  },
  "language_info": {
   "codemirror_mode": {
    "name": "ipython",
    "version": 3
   },
   "file_extension": ".py",
   "mimetype": "text/x-python",
   "name": "python",
   "nbconvert_exporter": "python",
   "pygments_lexer": "ipython3",
   "version": "3.9.7"
  }
 },
 "nbformat": 4,
 "nbformat_minor": 5
}
