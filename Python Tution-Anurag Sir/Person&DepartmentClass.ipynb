{
 "cells": [
  {
   "cell_type": "code",
   "execution_count": 1,
   "id": "1bc4b0b4",
   "metadata": {},
   "outputs": [],
   "source": [
    "class person:\n",
    "    def __init__(self, name, age):\n",
    "        self.name_ = name\n",
    "        self.age_ = age\n",
    "    def  __str__(self):\n",
    "        return \"Name: \" + self.name_ + \" Age: \"+ str(self.age_)\n",
    "    def __repr__(self):\n",
    "        return str(self)"
   ]
  },
  {
   "cell_type": "code",
   "execution_count": 17,
   "id": "b889b8e4",
   "metadata": {},
   "outputs": [],
   "source": [
    "class department:\n",
    "    def __init__(self, name, strength):\n",
    "        self.name = name\n",
    "        self.strength = strength # maxx alowe\n",
    "        self.working_emps = []\n",
    "        \n",
    "    def __str__(self):\n",
    "        return \"Name: \" + str(self.name) +\", Strength: \"+ str(self.strength)\n",
    "    def __repr__(self):\n",
    "        return str(self)\n",
    "    \n",
    "    def add_employee(self, emp):\n",
    "        if len(self.working_emps) < self.strength:\n",
    "            self.working_emps.append(emp)\n",
    "            return True\n",
    "        return False\n",
    "            "
   ]
  },
  {
   "cell_type": "code",
   "execution_count": 31,
   "id": "4f010394",
   "metadata": {},
   "outputs": [],
   "source": [
    "class employee:\n",
    "    def __init__(self, name, age, department_, salary, percentage):\n",
    "        self.person = person(name, age)\n",
    "        self.emp_dep = department_ # conection to department\n",
    "        if not self.emp_dep.add_employee(self): # ba\n",
    "            print(\"cannot add to the department.\")\n",
    "        self.emp_sal = salary\n",
    "        self.percent = percentage\n",
    "        \n",
    "    def enhanced(self):\n",
    "        return self.emp_sal - ((self.percent / 100) * self.emp_sal)\n",
    "        \n",
    "    def __str__(self):\n",
    "        return str(self.person) + \" Department: \" + str(self.emp_dep) + \" Percent Deducted Salary: \" + str(self.enhanced()) \n",
    "    def __repr__(self):\n",
    "        return str(self)"
   ]
  },
  {
   "cell_type": "code",
   "execution_count": 33,
   "id": "89bfa5b5",
   "metadata": {},
   "outputs": [
    {
     "name": "stdout",
     "output_type": "stream",
     "text": [
      "Enter the name of the department: Food\n",
      "The Maximum Strength of th class34\n",
      "Enter the name of the department: IT\n",
      "The Maximum Strength of th class22\n",
      "Enter the name of the department: MANAGEMENT\n",
      "The Maximum Strength of th class12\n",
      "Enter the name of the department: INFLUENCERS\n",
      "The Maximum Strength of th class12\n",
      "Enter the name of the department: YOUTUBERS\n",
      "The Maximum Strength of th class12\n",
      "[Name: Food, Strength: 34, Name: IT, Strength: 22, Name: MANAGEMENT, Strength: 12, Name: INFLUENCERS, Strength: 12, Name: YOUTUBERS, Strength: 12]\n"
     ]
    }
   ],
   "source": [
    "\n",
    "'''\n",
    "this function will be making departments and then adding multiple emps\n",
    "to the department\n",
    "Returns:\n",
    "    Departments_list\n",
    "'''\n",
    "dept_lst = [department(\n",
    "    input(\"Enter the name of the department: \"),\n",
    "    int(input(\"The Maximum Strength of th class\"))\n",
    ") for _ in range(5)]\n",
    "print(dept_lst)\n",
    "    \n"
   ]
  },
  {
   "cell_type": "code",
   "execution_count": 36,
   "id": "40670ee0",
   "metadata": {},
   "outputs": [
    {
     "name": "stdout",
     "output_type": "stream",
     "text": [
      "Name of the employee: Kiaan Garg\n",
      "Age: 11\n",
      "Salary: 10000000000\n",
      "Percentage: 12\n",
      "Name of the employee: Anurag Pandey\n",
      "Age: 22\n",
      "Salary: 12\n",
      "Percentage: 1\n",
      "Name of the employee: Frank Nair\n",
      "Age: 23\n",
      "Salary: 234234\n",
      "Percentage: 12\n",
      "Name of the employee: Rohan Prish\n",
      "Age: 23\n",
      "Salary: 5453534\n",
      "Percentage: 11\n",
      "Name of the employee: Yohan Kuph\n",
      "Age: 65\n",
      "Salary: 123312\n",
      "Percentage: 23\n",
      "Name of the employee: Yug Pandey\n",
      "Age: 12\n",
      "Salary: 43234\n",
      "Percentage: 5\n",
      "Name of the employee: Himnish Notani\n",
      "Age: 54\n",
      "Salary: 12\n",
      "Percentage: 2\n",
      "Name of the employee: Indria Hump\n",
      "Age: 23\n",
      "Salary: 12332\n",
      "Percentage: 12\n",
      "Name of the employee: Uttara\n",
      "Age: 32\n",
      "Salary: 1212132\n",
      "Percentage: 12\n",
      "Name of the employee: Harsh Sahji\n",
      "Age: 23\n",
      "Salary: 123123\n",
      "Percentage: 12\n"
     ]
    }
   ],
   "source": [
    "from random import choice\n",
    "\n",
    "emp_lst = [employee(\n",
    "    input(\"Name of the employee: \"),\n",
    "    int(input(\"Age: \")),\n",
    "    choice(dept_lst),\n",
    "    float(input(\"Salary: \")),\n",
    "    float(input(\"Percentage: \"))\n",
    ") for _ in range(10)]"
   ]
  },
  {
   "cell_type": "code",
   "execution_count": 37,
   "id": "07e416df",
   "metadata": {},
   "outputs": [
    {
     "name": "stdout",
     "output_type": "stream",
     "text": [
      "[<__main__.person object at 0x000002C034AD3C40> Department: Name: INFLUENCERS, Strength: 12 Percent Deducted Salary: 8800000000.0, <__main__.person object at 0x000002C034AA70D0> Department: Name: MANAGEMENT, Strength: 12 Percent Deducted Salary: 11.88, <__main__.person object at 0x000002C034AA7580> Department: Name: MANAGEMENT, Strength: 12 Percent Deducted Salary: 206125.92, <__main__.person object at 0x000002C0349E3700> Department: Name: Food, Strength: 34 Percent Deducted Salary: 4853645.26, <__main__.person object at 0x000002C0349E3BE0> Department: Name: MANAGEMENT, Strength: 12 Percent Deducted Salary: 94950.23999999999, <__main__.person object at 0x000002C0349E3C70> Department: Name: YOUTUBERS, Strength: 12 Percent Deducted Salary: 41072.3, <__main__.person object at 0x000002C0349E3BB0> Department: Name: MANAGEMENT, Strength: 12 Percent Deducted Salary: 11.76, <__main__.person object at 0x000002C0349E3AF0> Department: Name: YOUTUBERS, Strength: 12 Percent Deducted Salary: 10852.16, <__main__.person object at 0x000002C0349F50D0> Department: Name: Food, Strength: 34 Percent Deducted Salary: 1066676.16, <__main__.person object at 0x000002C0349F5130> Department: Name: Food, Strength: 34 Percent Deducted Salary: 108348.24]\n"
     ]
    }
   ],
   "source": [
    "print(emp_lst)"
   ]
  },
  {
   "cell_type": "code",
   "execution_count": null,
   "id": "4d32f5e5",
   "metadata": {},
   "outputs": [],
   "source": []
  }
 ],
 "metadata": {
  "kernelspec": {
   "display_name": "Python 3 (ipykernel)",
   "language": "python",
   "name": "python3"
  },
  "language_info": {
   "codemirror_mode": {
    "name": "ipython",
    "version": 3
   },
   "file_extension": ".py",
   "mimetype": "text/x-python",
   "name": "python",
   "nbconvert_exporter": "python",
   "pygments_lexer": "ipython3",
   "version": "3.9.7"
  }
 },
 "nbformat": 4,
 "nbformat_minor": 5
}
