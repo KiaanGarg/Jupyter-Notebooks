{
 "cells": [
  {
   "cell_type": "code",
   "execution_count": 1,
   "id": "f23fa003",
   "metadata": {},
   "outputs": [],
   "source": [
    "import numpy as np"
   ]
  },
  {
   "cell_type": "code",
   "execution_count": 4,
   "id": "e315f6ff",
   "metadata": {},
   "outputs": [
    {
     "name": "stdout",
     "output_type": "stream",
     "text": [
      "[1 2 3 4]\n"
     ]
    }
   ],
   "source": [
    "# 1-d Numpy Array\n",
    "\n",
    "a = np.array([1, 2, 3, 4])\n",
    "\n",
    "print(a)"
   ]
  },
  {
   "cell_type": "code",
   "execution_count": 9,
   "id": "95a52e9d",
   "metadata": {},
   "outputs": [
    {
     "name": "stdout",
     "output_type": "stream",
     "text": [
      "[[1 2 3 4]\n",
      " [5 6 7 8]]\n"
     ]
    }
   ],
   "source": [
    "# 2-d Numpy Array\n",
    "\n",
    "b = np.array([[1, 2, 3, 4], [5, 6, 7, 8]])\n",
    "\n",
    "print(b)"
   ]
  },
  {
   "cell_type": "code",
   "execution_count": 15,
   "id": "ddcd357f",
   "metadata": {},
   "outputs": [
    {
     "name": "stdout",
     "output_type": "stream",
     "text": [
      "Array A: \n",
      "1\n",
      "\n",
      "------------------------------\n",
      "\n",
      "Array B: \n",
      "2\n"
     ]
    }
   ],
   "source": [
    "# Get Dimension\n",
    "\n",
    "print(\"Array A: \")\n",
    "print(a.ndim)\n",
    "print()\n",
    "print(\"------------------------------\")\n",
    "print()\n",
    "print(\"Array B: \")\n",
    "print(b.ndim)"
   ]
  },
  {
   "cell_type": "code",
   "execution_count": 16,
   "id": "76339f2a",
   "metadata": {},
   "outputs": [
    {
     "name": "stdout",
     "output_type": "stream",
     "text": [
      "Array A: \n",
      "(4,)\n",
      "\n",
      "------------------------------\n",
      "\n",
      "Array B: \n",
      "(2, 4)\n"
     ]
    }
   ],
   "source": [
    "# Get Shape\n",
    "\n",
    "print(\"Array A: \")\n",
    "print(a.shape)\n",
    "print()\n",
    "print(\"------------------------------\")\n",
    "print()\n",
    "print(\"Array B: \")\n",
    "print(b.shape)"
   ]
  },
  {
   "cell_type": "code",
   "execution_count": null,
   "id": "e0f77680",
   "metadata": {},
   "outputs": [],
   "source": []
  }
 ],
 "metadata": {
  "kernelspec": {
   "display_name": "Python 3 (ipykernel)",
   "language": "python",
   "name": "python3"
  },
  "language_info": {
   "codemirror_mode": {
    "name": "ipython",
    "version": 3
   },
   "file_extension": ".py",
   "mimetype": "text/x-python",
   "name": "python",
   "nbconvert_exporter": "python",
   "pygments_lexer": "ipython3",
   "version": "3.10.0"
  }
 },
 "nbformat": 4,
 "nbformat_minor": 5
}
