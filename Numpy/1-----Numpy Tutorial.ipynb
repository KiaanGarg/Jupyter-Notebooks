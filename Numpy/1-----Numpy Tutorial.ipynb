{
 "cells": [
  {
   "cell_type": "code",
   "execution_count": 14,
   "id": "f23fa003",
   "metadata": {},
   "outputs": [],
   "source": [
    "import numpy as np"
   ]
  },
  {
   "cell_type": "code",
   "execution_count": 18,
   "id": "8ee7c86b",
   "metadata": {},
   "outputs": [
    {
     "name": "stdout",
     "output_type": "stream",
     "text": [
      "[1 2 3 4]\n"
     ]
    }
   ],
   "source": [
    "A = np.array([1, 2, 3, 4])\n",
    "print(a)"
   ]
  },
  {
   "cell_type": "code",
   "execution_count": 44,
   "id": "004589e9",
   "metadata": {},
   "outputs": [
    {
     "name": "stdout",
     "output_type": "stream",
     "text": [
      "[[1 2 3 4]\n",
      " [5 6 7 8]]\n",
      "hello world\n"
     ]
    }
   ],
   "source": [
    "B = np.array([[1, 2, 3, 4], [5, 6, 7, 8]])\n",
    "print(b)"
   ]
  },
  {
   "cell_type": "code",
   "execution_count": 22,
   "id": "03b480fd",
   "metadata": {},
   "outputs": [
    {
     "name": "stdout",
     "output_type": "stream",
     "text": [
      "Array A: \n",
      "\n",
      "1\n",
      "\n",
      "-----------------------------------------------\n",
      "\n",
      "Array B: \n",
      "\n",
      "2\n"
     ]
    }
   ],
   "source": [
    "# Get Dimensions\n",
    "\n",
    "print(\"Array A: \")\n",
    "print(\"\")\n",
    "print(A.ndim)\n",
    "print(\"\")\n",
    "print(\"-----------------------------------------------\")\n",
    "print(\"\")\n",
    "print(\"Array B: \")\n",
    "print(\"\")\n",
    "print(B.ndim)"
   ]
  },
  {
   "cell_type": "code",
   "execution_count": 23,
   "id": "0a6fefc8",
   "metadata": {},
   "outputs": [
    {
     "name": "stdout",
     "output_type": "stream",
     "text": [
      "Array A: \n",
      "\n",
      "(4,)\n",
      "\n",
      "-----------------------------------------------\n",
      "\n",
      "Array B: \n",
      "\n",
      "(2, 4)\n"
     ]
    }
   ],
   "source": [
    "# Get Shape\n",
    "\n",
    "print(\"Array A: \")\n",
    "print(\"\")\n",
    "print(A.shape)\n",
    "print(\"\")\n",
    "print(\"-----------------------------------------------\")\n",
    "print(\"\")\n",
    "print(\"Array B: \")\n",
    "print(\"\")\n",
    "print(B.shape)"
   ]
  },
  {
   "cell_type": "code",
   "execution_count": 24,
   "id": "ae9c9f54",
   "metadata": {},
   "outputs": [
    {
     "name": "stdout",
     "output_type": "stream",
     "text": [
      "Array A: \n",
      "\n",
      "4\n",
      "\n",
      "-----------------------------------------------\n",
      "\n",
      "Array B: \n",
      "\n",
      "4\n"
     ]
    }
   ],
   "source": [
    "# Get Size\n",
    "\n",
    "print(\"Array A: \")\n",
    "print(\"\")\n",
    "print(A.itemsize)\n",
    "print(\"\")\n",
    "print(\"-----------------------------------------------\")\n",
    "print(\"\")\n",
    "print(\"Array B: \")\n",
    "print(\"\")\n",
    "print(B.itemsize)"
   ]
  },
  {
   "cell_type": "code",
   "execution_count": 45,
   "id": "480c2415",
   "metadata": {},
   "outputs": [
    {
     "name": "stdout",
     "output_type": "stream",
     "text": [
      "Array A: \n",
      "\n",
      "16\n",
      "\n",
      "-----------------------------------------------\n",
      "\n",
      "Array B: \n",
      "\n",
      "32\n"
     ]
    }
   ],
   "source": [
    "# Get Total Size\n",
    "\n",
    "print(\"Array A: \")\n",
    "print(\"\")\n",
    "print(A.nbytes)\n",
    "print(\"\")\n",
    "print(\"-----------------------------------------------\")\n",
    "print(\"\")\n",
    "print(\"Array B: \")\n",
    "print(\"\")\n",
    "print(B.nbytes)"
   ]
  },
  {
   "cell_type": "code",
   "execution_count": null,
   "id": "00e46dd5",
   "metadata": {},
   "outputs": [],
   "source": []
  }
 ],
 "metadata": {
  "kernelspec": {
   "display_name": "Python 3 (ipykernel)",
   "language": "python",
   "name": "python3"
  },
  "language_info": {
   "codemirror_mode": {
    "name": "ipython",
    "version": 3
   },
   "file_extension": ".py",
   "mimetype": "text/x-python",
   "name": "python",
   "nbconvert_exporter": "python",
   "pygments_lexer": "ipython3",
   "version": "3.10.0"
  }
 },
 "nbformat": 4,
 "nbformat_minor": 5
}
